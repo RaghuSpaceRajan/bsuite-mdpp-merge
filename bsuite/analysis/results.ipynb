{
 "cells": [
  {
   "cell_type": "markdown",
   "metadata": {
    "colab_type": "text",
    "id": "eRrAUUu-t-O2"
   },
   "source": [
    "# Behaviour suite\n",
    "\n",
    "[![Open In Colab](https://colab.research.google.com/assets/colab-badge.svg)](https://colab.research.google.com/github/deepmind/bsuite/blob/master/bsuite/analysis/results.ipynb)\n",
    "\n",
    "This is the official results page for `bsuite`. You can use this to:\n",
    "- Get a snapshot of agent performance.\n",
    "- Diagnose strengths/weaknesses of your agent.\n",
    "- Leverage ready-made plots and analysis"
   ]
  },
  {
   "cell_type": "code",
   "execution_count": null,
   "metadata": {
    "cellView": "form",
    "colab": {},
    "colab_type": "code",
    "id": "qXOubWdlH9C0"
   },
   "outputs": [],
   "source": [
    "#@title Imports\n",
    "\n",
    "#! pip install --quiet git+git://github.com/deepmind/bsuite\n",
    "import warnings\n",
    "\n",
    "from bsuite.experiments import summary_analysis\n",
    "from bsuite.logging import csv_load\n",
    "from bsuite.logging import sqlite_load\n",
    "\n",
    "import numpy as np\n",
    "import pandas as pd\n",
    "import plotnine as gg\n",
    "\n",
    "pd.options.mode.chained_assignment = None\n",
    "gg.theme_set(gg.theme_bw(base_size=16, base_family='serif'))\n",
    "gg.theme_update(figure_size=(12, 8), panel_spacing_x=0.5, panel_spacing_y=0.5)\n",
    "warnings.filterwarnings('ignore')"
   ]
  },
  {
   "cell_type": "markdown",
   "metadata": {
    "colab_type": "text",
    "id": "gcpZiexEmjdf"
   },
   "source": [
    "##  Overall `bsuite` scores\n"
   ]
  },
  {
   "cell_type": "markdown",
   "metadata": {
    "colab_type": "text",
    "id": "dIJBQqCDp5aP"
   },
   "source": [
    "Load your experiments below. We recommend a maximum of 5 result sets, for clarity of analysis.\n",
    "\n",
    "The input to the `load_bsuite` function is a dict that maps from an experiment name of your choosing to the result path.\n",
    "\n",
    "For an experiment that used CSV logging, this would map to the directory containing the results. For SQLite logging, this would map to the database file for that experiment."
   ]
  },
  {
   "cell_type": "code",
   "execution_count": null,
   "metadata": {
    "cellView": "both",
    "colab": {},
    "colab_type": "code",
    "id": "TnqNuenpr61Y"
   },
   "outputs": [],
   "source": [
    "#@title loading results from local data:\n",
    "\n",
    "# experiments = {\"mdpp_1\": \"/home/rajanr/bsuite_runs/bsuite-mdpp-merge/\"}  # Add results here\n",
    "experiments = {\n",
    "    \"sonnet_dqn\": \"/home/rajanr/bsuite_runs/more_runs/sonnet_dqn/\",\n",
    "#              \"dqn_p_noise\": \"/home/rajanr/bsuite_runs/more_runs/dqn_p_noise\",\n",
    "#              \"dqn_r_noise\": \"/home/rajanr/bsuite_runs/more_runs/dqn_r_noise\",\n",
    "#              \"dqn_r_sparsity\": \"/home/rajanr/bsuite_runs/more_runs/dqn_r_sparsity\",\n",
    "#              \"dqn_seq_len\": \"/home/rajanr/bsuite_runs/more_runs/dqn_seq_len\",\n",
    "\n",
    "              \"boot_dqn\": \"/home/rajanr/bsuite_runs/more_runs/boot_dqn\",\n",
    "\n",
    "              \"a2c\": \"/home/rajanr/bsuite_runs/more_runs/a2c\",\n",
    "#               \"a2c_20_seeds\": \"/home/rajanr/bsuite_runs/more_runs/bsuite_mdpp_a2c_20_seeds\",\n",
    "#               \"a2c_100_seeds\": \"/home/rajanr/bsuite_runs/more_runs/bsuite_mdpp_a2c_100_seeds\",\n",
    "#               \"a2c_diff_lr\": \"/home/rajanr/bsuite_runs/more_runs/bsuite_mdpp_a2c_diff_lr\",\n",
    "#               \"a2c_diff_lr_and_num_neurons\": \"/home/rajanr/bsuite_runs/more_runs/bsuite_mdpp_a2c_diff_lr_and_num_neurons\",\n",
    "#              \"a2c_p_noise\": \"/home/rajanr/bsuite_runs/more_runs/a2c_p_noise\",\n",
    "#              \"a2c_r_noise\": \"/home/rajanr/bsuite_runs/more_runs/a2c_r_noise\",\n",
    "#              \"a2c_r_sparsity\": \"/home/rajanr/bsuite_runs/more_runs/a2c_r_sparsity\",\n",
    "#              \"a2c_seq_len\": \"/home/rajanr/bsuite_runs/more_runs/a2c_seq_len\",\n",
    "\n",
    "\n",
    "             \"a2c_rnn\": \"/home/rajanr/bsuite_runs/more_runs/a2c_rnn\",              \n",
    "#              \"a2c_rnn_p_noise\": \"/home/rajanr/bsuite_runs/more_runs/a2c_rnn_p_noise\",\n",
    "#              \"a2c_rnn_r_noise\": \"/home/rajanr/bsuite_runs/more_runs/a2c_rnn_r_noise\",\n",
    "#              \"a2c_rnn_r_sparsity\": \"/home/rajanr/bsuite_runs/more_runs/a2c_rnn_r_sparsity\",\n",
    "#              \"a2c_rnn_seq_len\": \"/home/rajanr/bsuite_runs/more_runs/a2c_rnn_seq_len\",\n",
    "\n",
    "             \"random_agent\": \"/home/rajanr/bsuite_runs/more_runs/random_agent\",\n",
    "\n",
    "}\n",
    "# DF, SWEEP_VARS = sqlite_load.load_bsuite(experiments)\n",
    "# Or\n",
    "DF, SWEEP_VARS = csv_load.load_bsuite(experiments)\n",
    "\n",
    "\n",
    "print(DF.shape)\n",
    "print(DF)"
   ]
  },
  {
   "cell_type": "code",
   "execution_count": null,
   "metadata": {
    "colab": {
     "height": 515
    },
    "colab_type": "code",
    "id": "plQLUbWPpUhv",
    "outputId": "e5bd5ec1-504b-4e35-a8fa-a487c84b0834",
    "scrolled": false
   },
   "outputs": [],
   "source": [
    "#@title overall score as radar plot (double-click to show/hide code)\n",
    "BSUITE_SCORE = summary_analysis.bsuite_score(DF, SWEEP_VARS)\n",
    "BSUITE_SUMMARY = summary_analysis.ave_score_by_tag(BSUITE_SCORE, SWEEP_VARS)\n",
    "__radar_fig__ = summary_analysis.bsuite_radar_plot(BSUITE_SUMMARY, SWEEP_VARS)\n",
    "##TODO remove these prints\n",
    "print(\"BSUITE_SCORE, SWEEP_VARS\")\n",
    "print(BSUITE_SCORE, SWEEP_VARS)\n",
    "print(\"BSUITE_SUMMARY\")\n",
    "print(BSUITE_SUMMARY)"
   ]
  },
  {
   "cell_type": "markdown",
   "metadata": {
    "colab_type": "text",
    "id": "5ANabuXdFAFS"
   },
   "source": [
    "**Parsing the plot above:**\n",
    "\n",
    "- Snapshot of agent behaviour across key metrics as measured by bsuite.\n",
    "- Length of each \"spoke\" represents score between 0 and 1.\n",
    "- For more detailed analysis, click into specific challenge domains."
   ]
  },
  {
   "cell_type": "markdown",
   "metadata": {
    "colab_type": "text",
    "id": "ds789Mrq5LmR"
   },
   "source": [
    "### Plotting scores per challenge in bar plot (click to show)"
   ]
  },
  {
   "cell_type": "code",
   "execution_count": null,
   "metadata": {
    "cellView": "form",
    "colab": {
     "height": 0
    },
    "colab_type": "code",
    "id": "8VGZIvfGtZ4m",
    "outputId": "a43f0d8d-f0c5-45dc-e6c9-3ec8a2b2b60b"
   },
   "outputs": [],
   "source": [
    "#@title plotting overall score as bar (double-click to show/hide code)\n",
    "bar_plt = summary_analysis.bsuite_bar_plot(BSUITE_SCORE, SWEEP_VARS).draw()"
   ]
  },
  {
   "cell_type": "markdown",
   "metadata": {
    "colab_type": "text",
    "id": "QsUzPzmrG208"
   },
   "source": [
    "**Parsing the plot above:**\n",
    "\n",
    "- Height of each bar is the score on each challenge domain.\n",
    "- Partially-finished runs are shown with transparent bars.\n",
    "- Parameter/agent sweeps are automatically [faceted](http://www.sthda.com/english/wiki/ggplot2-facet-split-a-plot-into-a-matrix-of-panels) side by side.\n",
    "- For more detailed analysis, click into specific challenge domains."
   ]
  },
  {
   "cell_type": "code",
   "execution_count": null,
   "metadata": {
    "cellView": "form",
    "colab": {
     "height": 0
    },
    "colab_type": "code",
    "id": "iR-J9iZWPDNW",
    "outputId": "7211a243-da56-4441-a2b3-7f4af966358b"
   },
   "outputs": [],
   "source": [
    "#@title compare agent performance on each challenge (double-click to show/hide code)\n",
    "summary_analysis.bsuite_bar_plot_compare(BSUITE_SCORE, SWEEP_VARS).draw();"
   ]
  },
  {
   "cell_type": "markdown",
   "metadata": {
    "colab_type": "text",
    "id": "nJcxdHc9Ps7k"
   },
   "source": [
    "**Parsing the plot above:**\n",
    "\n",
    "- Height of each bar is the score on each challenge domain.\n",
    "- Partially-finished runs are shown with transparent bars.\n",
    "- Each \"facet\" focuses on a separate environment.\n",
    "- This plot allows for easier comparison between agents.\n",
    "- For more detailed analysis, click into specific challenge domains."
   ]
  },
  {
   "cell_type": "markdown",
   "metadata": {
    "colab_type": "text",
    "id": "iaa0FgSoMu3T"
   },
   "source": [
    "# Individual challenge domains\n",
    "\n",
    "This section of the report contains specific analysis for each individual `bsuite` experiment."
   ]
  },
  {
   "cell_type": "code",
   "execution_count": null,
   "metadata": {
    "cellView": "form",
    "colab": {},
    "colab_type": "code",
    "id": "x0Kh71xBGovc"
   },
   "outputs": [],
   "source": [
    "#@title Import experiment-specific analysis\n",
    "\n",
    "from bsuite.experiments.bandit import analysis as bandit_analysis\n",
    "from bsuite.experiments.bandit_noise import analysis as bandit_noise_analysis\n",
    "from bsuite.experiments.bandit_scale import analysis as bandit_scale_analysis\n",
    "from bsuite.experiments.cartpole import analysis as cartpole_analysis\n",
    "from bsuite.experiments.cartpole_noise import analysis as cartpole_noise_analysis\n",
    "from bsuite.experiments.cartpole_scale import analysis as cartpole_scale_analysis\n",
    "from bsuite.experiments.cartpole_swingup import analysis as cartpole_swingup_analysis\n",
    "from bsuite.experiments.catch import analysis as catch_analysis\n",
    "from bsuite.experiments.catch_noise import analysis as catch_noise_analysis\n",
    "from bsuite.experiments.catch_scale import analysis as catch_scale_analysis\n",
    "from bsuite.experiments.deep_sea import analysis as deep_sea_analysis\n",
    "from bsuite.experiments.deep_sea_stochastic import analysis as deep_sea_stochastic_analysis\n",
    "from bsuite.experiments.discounting_chain import analysis as discounting_chain_analysis\n",
    "from bsuite.experiments.mdp_playground import analysis as mdp_playground_analysis\n",
    "from bsuite.experiments.mdp_playground_delay import analysis as mdp_playground_delay_analysis\n",
    "from bsuite.experiments.mdp_playground_p_noise import analysis as mdp_playground_p_noise_analysis\n",
    "from bsuite.experiments.mdp_playground_r_noise import analysis as mdp_playground_r_noise_analysis\n",
    "from bsuite.experiments.mdp_playground_r_sparse import analysis as mdp_playground_r_sparse_analysis\n",
    "from bsuite.experiments.mdp_playground_seq_len import analysis as mdp_playground_seq_len_analysis\n",
    "from bsuite.experiments.memory_len import analysis as memory_len_analysis\n",
    "from bsuite.experiments.memory_size import analysis as memory_size_analysis\n",
    "from bsuite.experiments.mnist import analysis as mnist_analysis\n",
    "from bsuite.experiments.mnist_noise import analysis as mnist_noise_analysis\n",
    "from bsuite.experiments.mnist_scale import analysis as mnist_scale_analysis\n",
    "from bsuite.experiments.mountain_car import analysis as mountain_car_analysis\n",
    "from bsuite.experiments.mountain_car_noise import analysis as mountain_car_noise_analysis\n",
    "from bsuite.experiments.mountain_car_scale import analysis as mountain_car_scale_analysis\n",
    "from bsuite.experiments.umbrella_distract import analysis as umbrella_distract_analysis\n",
    "from bsuite.experiments.umbrella_length import analysis as umbrella_length_analysis\n"
   ]
  },
  {
   "cell_type": "markdown",
   "metadata": {},
   "source": [
    "## MDP Playground\n",
    "\n",
    "MDP Playground consists of many toy MDPs with controllable dimensions of difficulties that can be injected independently of each other (https://arxiv.org/abs/1909.07750). The MDPs are essentially *regularly structured* grid-worlds with the given values for the dimensions (please refer to the paper for more details). Once the structure of the MDP is set, the connections between states are randomly set to one of the possible available actions.\n",
    "\n",
    "We instantiate here the vanilla MDP, with harder MDPs in the cells further below, wherein we vary the hardness along one dimension of difficulty at a time."
   ]
  },
  {
   "cell_type": "code",
   "execution_count": null,
   "metadata": {
    "scrolled": false
   },
   "outputs": [],
   "source": [
    "#@title parsing data\n",
    "mdp_playground_df = DF[DF.bsuite_env == 'mdp_playground'].copy()\n",
    "summary_analysis.plot_single_experiment(BSUITE_SCORE, 'mdp_playground', SWEEP_VARS).draw();"
   ]
  },
  {
   "cell_type": "code",
   "execution_count": null,
   "metadata": {},
   "outputs": [],
   "source": [
    "#@title average regret during learning (lower is better)\n",
    "mdp_playground_analysis.plot_learning(mdp_playground_df, SWEEP_VARS).draw();"
   ]
  },
  {
   "cell_type": "markdown",
   "metadata": {},
   "source": [
    "**Parsing the plot above:**\n",
    "- Display the average regret *through* 1k episodes (lower is better)\n",
    "- Dashed line shows the performance of a random agent.\n",
    "- Plots are for the vanilla MDP Playground environment so this tests an agents' basic learning."
   ]
  },
  {
   "cell_type": "code",
   "execution_count": null,
   "metadata": {},
   "outputs": [],
   "source": [
    "#@title plot performance by seed (higher is better)\n",
    "mdp_playground_analysis.plot_seeds(mdp_playground_df, SWEEP_VARS).draw();"
   ]
  },
  {
   "cell_type": "markdown",
   "metadata": {},
   "source": [
    "**Parsing the plot above:**\n",
    "\n",
    "- Here we can see the performance of each agent individually through time.\n",
    "- Higher scores are better, but individual runs may be noisy.\n",
    "- Use this plot to diagnose strange agent behaviour and also analyse stability of its learning."
   ]
  },
  {
   "cell_type": "markdown",
   "metadata": {},
   "source": [
    "### MDP Playground with Delays\n",
    "\n",
    "In these MDPs, we inject artificial delays of 0, 1, 2, 4 and 8 to test agents' robustness to reward delays."
   ]
  },
  {
   "cell_type": "code",
   "execution_count": null,
   "metadata": {
    "scrolled": false
   },
   "outputs": [],
   "source": [
    "#@title parsing data\n",
    "mdp_playground_delay_df = DF[DF.bsuite_env == 'mdp_playground_delay'].copy()\n",
    "summary_analysis.plot_single_experiment(BSUITE_SCORE, 'mdp_playground_delay', SWEEP_VARS).draw();"
   ]
  },
  {
   "cell_type": "code",
   "execution_count": null,
   "metadata": {},
   "outputs": [],
   "source": [
    "#@title average regret after learning (lower is better)\n",
    "mdp_playground_delay_analysis.plot_average(mdp_playground_delay_df, SWEEP_VARS).draw();"
   ]
  },
  {
   "cell_type": "markdown",
   "metadata": {},
   "source": [
    "**Parsing the plot above:**\n",
    "- Display the average regret *after* 1k episodes (lower is better)\n",
    "- Dashed line shows the performance of a random agent.\n",
    "- Plots are for the MDP Playground environment with delays injected so this tests an agents' robustness to reward delays."
   ]
  },
  {
   "cell_type": "code",
   "execution_count": null,
   "metadata": {},
   "outputs": [],
   "source": [
    "#@title average regret during learning (lower is better)\n",
    "mdp_playground_delay_analysis.plot_learning(mdp_playground_delay_df, SWEEP_VARS).draw();"
   ]
  },
  {
   "cell_type": "markdown",
   "metadata": {},
   "source": [
    "**Parsing the plot above:**\n",
    "- Display the average regret *through* 1k episodes (lower is better)\n",
    "- Dashed line shows the performance of a random agent.\n",
    "- Plots are for the MDP Playground environment with delays injected so this tests an agents' robustness to reward delays."
   ]
  },
  {
   "cell_type": "code",
   "execution_count": null,
   "metadata": {},
   "outputs": [],
   "source": [
    "#@title plot performance by seed (higher is better)\n",
    "mdp_playground_delay_analysis.plot_seeds(mdp_playground_delay_df, SWEEP_VARS).draw();"
   ]
  },
  {
   "cell_type": "markdown",
   "metadata": {},
   "source": [
    "**Parsing the plot above:**\n",
    "\n",
    "- Here we can see the performance of each agent individually through time.\n",
    "- Higher scores are better, but individual runs may be noisy.\n",
    "- Use this plot to diagnose strange agent behaviour."
   ]
  },
  {
   "cell_type": "markdown",
   "metadata": {},
   "source": [
    "### MDP Playground with Transition Noise\n",
    "\n",
    "In these MDPs, a fraction of the transitions in the environment are noisy - the fractions of transitions which are noisy in the instantiated environments are 0, 0.01, 0.02, 0.1 and 0.25 - to test agents' robustness to transition noise."
   ]
  },
  {
   "cell_type": "code",
   "execution_count": null,
   "metadata": {
    "scrolled": false
   },
   "outputs": [],
   "source": [
    "#@title parsing data\n",
    "mdp_playground_p_noise_df = DF[DF.bsuite_env == 'mdp_playground_p_noise'].copy()\n",
    "summary_analysis.plot_single_experiment(BSUITE_SCORE, 'mdp_playground_p_noise', SWEEP_VARS).draw();"
   ]
  },
  {
   "cell_type": "code",
   "execution_count": null,
   "metadata": {},
   "outputs": [],
   "source": [
    "#@title average regret after learning (lower is better)\n",
    "mdp_playground_p_noise_analysis.plot_average(mdp_playground_p_noise_df, SWEEP_VARS).draw();"
   ]
  },
  {
   "cell_type": "markdown",
   "metadata": {},
   "source": [
    "**Parsing the plot above:**\n",
    "- Display the average regret *after* 1k episodes (lower is better)\n",
    "- Dashed line shows the performance of a random agent.\n",
    "- Plots are for the MDP Playground environment with injected transition noise so this tests an agents' robustness to transition noise."
   ]
  },
  {
   "cell_type": "code",
   "execution_count": null,
   "metadata": {},
   "outputs": [],
   "source": [
    "#@title average regret during learning (lower is better)\n",
    "mdp_playground_p_noise_analysis.plot_learning(mdp_playground_p_noise_df, SWEEP_VARS).draw();"
   ]
  },
  {
   "cell_type": "markdown",
   "metadata": {},
   "source": [
    "**Parsing the plot above:**\n",
    "- Display the average regret *through* 1k episodes (lower is better)\n",
    "- Dashed line shows the performance of a random agent.\n",
    "- Plots are for the MDP Playground environment with injected transition noise so this tests an agents' robustness to transition noise."
   ]
  },
  {
   "cell_type": "code",
   "execution_count": null,
   "metadata": {},
   "outputs": [],
   "source": [
    "#@title plot performance by seed (higher is better)\n",
    "mdp_playground_p_noise_analysis.plot_seeds(mdp_playground_p_noise_df, SWEEP_VARS).draw();"
   ]
  },
  {
   "cell_type": "markdown",
   "metadata": {},
   "source": [
    "**Parsing the plot above:**\n",
    "\n",
    "- Here we can see the performance of each agent individually through time.\n",
    "- Higher scores are better, but individual runs may be noisy.\n",
    "- Use this plot to diagnose strange agent behaviour."
   ]
  },
  {
   "cell_type": "markdown",
   "metadata": {},
   "source": [
    "### MDP Playground with Reward Noise\n",
    "\n",
    "In these MDPs, we inject Gaussian noise into the reward function with standard deviations of 0, 1, 5, 10 and 15 to test agents' robustness to reward noise."
   ]
  },
  {
   "cell_type": "code",
   "execution_count": null,
   "metadata": {
    "scrolled": false
   },
   "outputs": [],
   "source": [
    "#@title parsing data\n",
    "mdp_playground_r_noise_df = DF[DF.bsuite_env == 'mdp_playground_r_noise'].copy()\n",
    "summary_analysis.plot_single_experiment(BSUITE_SCORE, 'mdp_playground_r_noise', SWEEP_VARS).draw();"
   ]
  },
  {
   "cell_type": "code",
   "execution_count": null,
   "metadata": {},
   "outputs": [],
   "source": [
    "#@title average regret after learning (lower is better)\n",
    "mdp_playground_r_noise_analysis.plot_average(mdp_playground_r_noise_df, SWEEP_VARS).draw();"
   ]
  },
  {
   "cell_type": "markdown",
   "metadata": {},
   "source": [
    "**Parsing the plot above:**\n",
    "- Display the average regret *after* 1k episodes (lower is better)\n",
    "- Dashed line shows the performance of a random agent.\n",
    "- Plots are for the MDP Playground environment with injected reward noise so this tests an agents' robustness to reward noise."
   ]
  },
  {
   "cell_type": "code",
   "execution_count": null,
   "metadata": {},
   "outputs": [],
   "source": [
    "#@title average regret during learning (lower is better)\n",
    "mdp_playground_r_noise_analysis.plot_learning(mdp_playground_r_noise_df, SWEEP_VARS).draw();"
   ]
  },
  {
   "cell_type": "markdown",
   "metadata": {},
   "source": [
    "**Parsing the plot above:**\n",
    "- Display the average regret *through* 1k episodes (lower is better)\n",
    "- Dashed line shows the performance of a random agent.\n",
    "- Plots are for the MDP Playground environment with injected reward noise so this tests an agents' robustness to reward noise."
   ]
  },
  {
   "cell_type": "code",
   "execution_count": null,
   "metadata": {},
   "outputs": [],
   "source": [
    "#@title plot performance by seed (higher is better)\n",
    "mdp_playground_r_noise_analysis.plot_seeds(mdp_playground_r_noise_df, SWEEP_VARS).draw();"
   ]
  },
  {
   "cell_type": "markdown",
   "metadata": {},
   "source": [
    "**Parsing the plot above:**\n",
    "\n",
    "- Here we can see the performance of each agent individually through time.\n",
    "- Higher scores are better, but individual runs may be noisy.\n",
    "- Use this plot to diagnose strange agent behaviour."
   ]
  },
  {
   "cell_type": "markdown",
   "metadata": {},
   "source": [
    "### MDP Playground with Sparse Rewards\n",
    "\n",
    "In these MDPs, we allow only a fraction of the possible transitions to be rewardable - the fractions of transitions which are rewardable in the instantiated environments are 0.17, 0.34, 0.5, 0.67 and 0.84 - to test agents' robustness to reward sparsity."
   ]
  },
  {
   "cell_type": "code",
   "execution_count": null,
   "metadata": {
    "scrolled": false
   },
   "outputs": [],
   "source": [
    "#@title parsing data\n",
    "mdp_playground_r_sparse_df = DF[DF.bsuite_env == 'mdp_playground_r_sparse'].copy()\n",
    "summary_analysis.plot_single_experiment(BSUITE_SCORE, 'mdp_playground_r_sparse', SWEEP_VARS).draw();"
   ]
  },
  {
   "cell_type": "code",
   "execution_count": null,
   "metadata": {},
   "outputs": [],
   "source": [
    "#@title average regret after learning (lower is better)\n",
    "mdp_playground_r_sparse_analysis.plot_average(mdp_playground_r_sparse_df, SWEEP_VARS).draw();"
   ]
  },
  {
   "cell_type": "markdown",
   "metadata": {},
   "source": [
    "**Parsing the plot above:**\n",
    "- Display the average regret *after* 1k episodes (lower is better)\n",
    "- Dashed line shows the performance of a random agent.\n",
    "- Plots are for the MDP Playground environment with injected reward sparsity so this tests an agents' robustness to reward sparsity."
   ]
  },
  {
   "cell_type": "code",
   "execution_count": null,
   "metadata": {},
   "outputs": [],
   "source": [
    "#@title average regret during learning (lower is better)\n",
    "mdp_playground_r_sparse_analysis.plot_learning(mdp_playground_r_sparse_df, SWEEP_VARS).draw();"
   ]
  },
  {
   "cell_type": "markdown",
   "metadata": {},
   "source": [
    "**Parsing the plot above:**\n",
    "- Display the average regret *through* 1k episodes (lower is better)\n",
    "- Dashed line shows the performance of a random agent.\n",
    "- Plots are for the MDP Playground environment with injected reward sparsity so this tests an agents' robustness to reward sparsity."
   ]
  },
  {
   "cell_type": "code",
   "execution_count": null,
   "metadata": {},
   "outputs": [],
   "source": [
    "#@title plot performance by seed (higher is better)\n",
    "mdp_playground_r_sparse_analysis.plot_seeds(mdp_playground_r_sparse_df, SWEEP_VARS).draw();"
   ]
  },
  {
   "cell_type": "markdown",
   "metadata": {},
   "source": [
    "**Parsing the plot above:**\n",
    "\n",
    "- Here we can see the performance of each agent individually through time.\n",
    "- Higher scores are better, but individual runs may be noisy.\n",
    "- Use this plot to diagnose strange agent behaviour."
   ]
  },
  {
   "cell_type": "markdown",
   "metadata": {},
   "source": [
    "### MDP Playground with Rewardable Sequences\n",
    "\n",
    "In these MDPs, we allow vary the sequence lengths of rewardable seuqences of states and actions - the rewardable sequence lengths are set to 1, 2, 3, 4 for the different environments. This is to test agents' robustness to rewardable sequence length and ties in well with Hierarchical RL."
   ]
  },
  {
   "cell_type": "code",
   "execution_count": null,
   "metadata": {
    "scrolled": false
   },
   "outputs": [],
   "source": [
    "#@title parsing data\n",
    "mdp_playground_seq_len_df = DF[DF.bsuite_env == 'mdp_playground_seq_len'].copy()\n",
    "summary_analysis.plot_single_experiment(BSUITE_SCORE, 'mdp_playground_seq_len', SWEEP_VARS).draw();"
   ]
  },
  {
   "cell_type": "code",
   "execution_count": null,
   "metadata": {},
   "outputs": [],
   "source": [
    "#@title average regret after learning (lower is better)\n",
    "mdp_playground_seq_len_analysis.plot_average(mdp_playground_seq_len_df, SWEEP_VARS).draw();"
   ]
  },
  {
   "cell_type": "markdown",
   "metadata": {},
   "source": [
    "**Parsing the plot above:**\n",
    "- Display the average regret *after* 1k episodes (lower is better)\n",
    "- Dashed line shows the performance of a random agent.\n",
    "- Plots are for the MDP Playground environment with varying rewardable sequence lengths so this tests an agents' robustness to varying rewardable sequence lengths."
   ]
  },
  {
   "cell_type": "code",
   "execution_count": null,
   "metadata": {},
   "outputs": [],
   "source": [
    "#@title average regret during learning (lower is better)\n",
    "mdp_playground_seq_len_analysis.plot_learning(mdp_playground_seq_len_df, SWEEP_VARS).draw();"
   ]
  },
  {
   "cell_type": "markdown",
   "metadata": {},
   "source": [
    "**Parsing the plot above:**\n",
    "- Display the average regret *through* 1k episodes (lower is better)\n",
    "- Dashed line shows the performance of a random agent.\n",
    "- Plots are for the MDP Playground environment with varying rewardable sequence lengths so this tests an agents' robustness to varying rewardable sequence lengths."
   ]
  },
  {
   "cell_type": "code",
   "execution_count": null,
   "metadata": {},
   "outputs": [],
   "source": [
    "#@title plot performance by seed (higher is better)\n",
    "mdp_playground_seq_len_analysis.plot_seeds(mdp_playground_seq_len_df, SWEEP_VARS).draw();"
   ]
  },
  {
   "cell_type": "markdown",
   "metadata": {},
   "source": [
    "**Parsing the plot above:**\n",
    "\n",
    "- Here we can see the performance of each agent individually through time.\n",
    "- Higher scores are better, but individual runs may be noisy.\n",
    "- Use this plot to diagnose strange agent behaviour."
   ]
  },
  {
   "cell_type": "markdown",
   "metadata": {
    "colab_type": "text",
    "id": "dwIcX62dDnNE"
   },
   "source": [
    "## Basic\n",
    "\n",
    "\n",
    "We begin with a collection of very simple decision problems with standard analysis:\n",
    "- Does the agent learn a reasonable rewarding policy?\n",
    "- How quickly do they learn simple tasks?\n",
    "\n",
    "We call these experiments \"basic\", since they are not particularly targeted at specific core issues.\n"
   ]
  },
  {
   "cell_type": "markdown",
   "metadata": {
    "colab_type": "text",
    "id": "vQmNzVbBDqZa"
   },
   "source": [
    "### Bandit\n",
    "\n"
   ]
  },
  {
   "cell_type": "markdown",
   "metadata": {
    "colab_type": "text",
    "id": "fjweihnXblOP"
   },
   "source": [
    "\n",
    "<img src=\"https://storage.cloud.google.com/bsuite-colab-images/bandit.png\" alt=\"bandit diagram\" height=\"300\"/>\n",
    "\n",
    "\n",
    "A simple independent-armed bandit problem.\n",
    "\n",
    "- The agent is faced with 11 actions with deterministic rewards [0.0, 0.1, .., 1.0] randomly assigned.\n",
    "- Run over 20 seeds for 10k episodes.\n",
    "- Score is 1 - 2 * average_regret at 10k episodes.\n",
    "- Must log `episode`, `total_regret` for standard analysis.\n",
    "\n",
    "\n",
    "\n"
   ]
  },
  {
   "cell_type": "code",
   "execution_count": null,
   "metadata": {
    "cellView": "form",
    "colab": {
     "height": 0
    },
    "colab_type": "code",
    "id": "h5um7tOPDpju",
    "outputId": "a10d0634-9d9e-49dc-8afb-30c9676f603f"
   },
   "outputs": [],
   "source": [
    "#@title parsing data\n",
    "bandit_df = DF[DF.bsuite_env == 'bandit'].copy()\n",
    "summary_analysis.plot_single_experiment(BSUITE_SCORE, 'bandit', SWEEP_VARS).draw();"
   ]
  },
  {
   "cell_type": "code",
   "execution_count": null,
   "metadata": {
    "cellView": "form",
    "colab": {
     "height": 0
    },
    "colab_type": "code",
    "id": "j583NAoLD5nD",
    "outputId": "8f652903-84d1-4fc0-d653-09f8254bf3bb"
   },
   "outputs": [],
   "source": [
    "#@title plot average regret through learning (lower is better)\n",
    "bandit_analysis.plot_learning(bandit_df, SWEEP_VARS).draw();"
   ]
  },
  {
   "cell_type": "markdown",
   "metadata": {
    "colab_type": "text",
    "id": "asfed9wuEbO7"
   },
   "source": [
    "**Parsing the plot above:**\n",
    "\n",
    "- Here we can see the performance of the agent averaged over 20 seeds.\n",
    "- Random policy has reward of 0  = regret of 0.5 = dashed line\n",
    "- Want to see a stable learning curve -> 0 and fast!\n",
    "- Smoothing is performed with rolling mean over 10% of data with confidence bar at 95% Gaussian standard error.\n"
   ]
  },
  {
   "cell_type": "code",
   "execution_count": null,
   "metadata": {
    "cellView": "form",
    "colab": {
     "height": 0
    },
    "colab_type": "code",
    "id": "t600GCEj1qCu",
    "outputId": "efaf7dcf-e03d-4d95-e95a-9a8a822558f5"
   },
   "outputs": [],
   "source": [
    "#@title plot performance by seed (higher is better)\n",
    "bandit_analysis.plot_seeds(bandit_df, SWEEP_VARS).draw();"
   ]
  },
  {
   "cell_type": "markdown",
   "metadata": {
    "colab_type": "text",
    "id": "_ypLP6DZHZc8"
   },
   "source": [
    "### MNIST\n",
    "\n"
   ]
  },
  {
   "cell_type": "markdown",
   "metadata": {
    "colab_type": "text",
    "id": "woT2ar_fbjy3"
   },
   "source": [
    "\n",
    "<img src=\"https://storage.cloud.google.com/bsuite-colab-images/mnist.png\" alt=\"mnist diagram\" height=\"300\"/>\n",
    "\n",
    "The \"hello world\" of deep learning, now as a contextual bandit.\n",
    "\n",
    "- Every timestep the agent must classify a random MNIST digit.\n",
    "- Reward +1 for correct, -1 for incorrect.\n",
    "- Run for 10k episodes, 20 seeds.\n",
    "- Score is percentage of successful classifications.\n",
    "- Must log `episode`, `total_regret` for standard analysis."
   ]
  },
  {
   "cell_type": "code",
   "execution_count": null,
   "metadata": {
    "cellView": "form",
    "colab": {
     "height": 0
    },
    "colab_type": "code",
    "id": "77KttSBsHZc-",
    "outputId": "33fcb4af-e268-4e0b-ea7b-6625225165e2"
   },
   "outputs": [],
   "source": [
    "#@title parsing data\n",
    "mnist_df = DF[DF.bsuite_env == 'mnist'].copy()\n",
    "summary_analysis.plot_single_experiment(BSUITE_SCORE, 'mnist', SWEEP_VARS).draw();"
   ]
  },
  {
   "cell_type": "code",
   "execution_count": null,
   "metadata": {
    "cellView": "form",
    "colab": {
     "height": 0
    },
    "colab_type": "code",
    "id": "dxjKHqPaHZdB",
    "outputId": "8b216499-37ec-4d7b-db8c-f0c64125b45d"
   },
   "outputs": [],
   "source": [
    "#@title plot average regret through learning (lower is better)\n",
    "mnist_analysis.plot_learning(mnist_df, SWEEP_VARS).draw();"
   ]
  },
  {
   "cell_type": "markdown",
   "metadata": {
    "colab_type": "text",
    "id": "gMAtScV4HZdH"
   },
   "source": [
    "**Parsing the plot above:**\n",
    "\n",
    "- Here we can see the performance of the agent averaged over 20 seeds.\n",
    "- Random policy has reward of 0  = regret of 1.8 = dashed line\n",
    "- Want to see a stable learning curve -> 0 and fast!\n",
    "- Smoothing is performed with rolling mean over 10% of data with confidence bar at 95% Gaussian standard error.\n"
   ]
  },
  {
   "cell_type": "code",
   "execution_count": null,
   "metadata": {
    "cellView": "form",
    "colab": {
     "height": 0
    },
    "colab_type": "code",
    "id": "zmCi_x8F4jCt",
    "outputId": "360baa52-b3d6-4767-ce46-fa724d251c6d"
   },
   "outputs": [],
   "source": [
    "#@title plot performance by seed (higher is better)\n",
    "mnist_analysis.plot_seeds(mnist_df, SWEEP_VARS).draw();"
   ]
  },
  {
   "cell_type": "markdown",
   "metadata": {
    "colab_type": "text",
    "id": "QWtMyhFpNYC9"
   },
   "source": [
    "**Parsing the plot above:**\n",
    "\n",
    "- Here we can see the performance of each agent individually through time.\n",
    "- Higher scores are better, but individual runs may be noisy.\n",
    "- Use this plot to diagnose strange agent behaviour."
   ]
  },
  {
   "cell_type": "markdown",
   "metadata": {
    "colab_type": "text",
    "id": "GrTjfY11MD5E"
   },
   "source": [
    "### Catch"
   ]
  },
  {
   "cell_type": "markdown",
   "metadata": {
    "colab_type": "text",
    "id": "7MOVEQunM9QB"
   },
   "source": [
    "<img src=\"https://storage.cloud.google.com/bsuite-colab-images/catch.png\" alt=\"catch diagram\" height=\"300\"/>\n",
    "\n",
    "\n",
    "DeepMind's internal \"hello world\" for RL agents.\n",
    "\n",
    "- The environment is a 5x10 grid with a single falling block per episodes (similar to Tetris).\n",
    "- The agent controls a single \"paddle\" pixel that it should use to \"catch\" the falling block.\n",
    "- If the agent catches the block reward +1, if the agent misses the block reward -1.\n",
    "-   Run the agent for 10k episodes and 20 seeds.\n",
    "-   Score is percentage of successful \"catch\" over first 10k episodes.\n",
    "-   Must log `episode`, `total_regret` for standard analysis.\n",
    "\n"
   ]
  },
  {
   "cell_type": "code",
   "execution_count": null,
   "metadata": {
    "cellView": "form",
    "colab": {
     "height": 0
    },
    "colab_type": "code",
    "id": "54UwF1sONICb",
    "outputId": "1c65d7ca-baf3-4b26-f48b-f8f80207fbb6"
   },
   "outputs": [],
   "source": [
    "#@title parsing data\n",
    "catch_df = DF[DF.bsuite_env == 'catch'].copy()\n",
    "summary_analysis.plot_single_experiment(BSUITE_SCORE, 'catch', SWEEP_VARS).draw();"
   ]
  },
  {
   "cell_type": "code",
   "execution_count": null,
   "metadata": {
    "cellView": "form",
    "colab": {
     "height": 0
    },
    "colab_type": "code",
    "id": "54hwhFHSreCS",
    "outputId": "c46af653-368d-4305-f355-9440b3b4a748"
   },
   "outputs": [],
   "source": [
    "#@title plot average regret through learning (lower is better)\n",
    "catch_analysis.plot_learning(catch_df, SWEEP_VARS).draw();"
   ]
  },
  {
   "cell_type": "markdown",
   "metadata": {
    "colab_type": "text",
    "id": "kjnlywacKyWk"
   },
   "source": [
    "**Parsing the plot above:**\n",
    "\n",
    "- Here we can see the performance of the agent averaged over 20 seeds.\n",
    "- Random policy has reward of 0  = regret of 1.6 = dashed line\n",
    "- Want to see a stable learning curve -> 0 and fast!\n",
    "- Smoothing is performed with rolling mean over 10% of data with confidence bar at 95% Gaussian standard error.\n"
   ]
  },
  {
   "cell_type": "code",
   "execution_count": null,
   "metadata": {
    "cellView": "form",
    "colab": {
     "height": 0
    },
    "colab_type": "code",
    "id": "m-F2cCPb4kNa",
    "outputId": "9b77baf8-2e7c-40f6-dc0a-7e6fd050c9d6"
   },
   "outputs": [],
   "source": [
    "#@title plot performance by seed (higher is better)\n",
    "catch_analysis.plot_seeds(catch_df, SWEEP_VARS).draw();"
   ]
  },
  {
   "cell_type": "markdown",
   "metadata": {
    "colab_type": "text",
    "id": "sVZ3SfqYNY5H"
   },
   "source": [
    "**Parsing the plot above:**\n",
    "\n",
    "- Here we can see the performance of each agent individually through time.\n",
    "- Higher scores are better, but individual runs may be noisy.\n",
    "- Use this plot to diagnose strange agent behaviour."
   ]
  },
  {
   "cell_type": "markdown",
   "metadata": {
    "colab_type": "text",
    "id": "YtCu7IUwFYOY"
   },
   "source": [
    "### Mountain car"
   ]
  },
  {
   "cell_type": "markdown",
   "metadata": {
    "colab_type": "text",
    "id": "twcWpU2hb4XT"
   },
   "source": [
    "<img src=\"https://storage.cloud.google.com/bsuite-colab-images/mountain_car.png\" alt=\"mountaincar diagram\" height=\"300\"/>\n",
    "\n",
    "A classic benchmark problem in RL.\n",
    "The agent controls an underpowered car and must drive it out of a valley.\n",
    "\n",
    "- Reward of -1 each step until the car reaches the goal.\n",
    "- Maximum episode length of 1000 steps.\n",
    "- Run 1000 episodes for 20 seeds.\n",
    "- Score is based on regret against \"good\" policy that solves in 25 steps.\n",
    "- Must log `episode`, `total_regret` for standard analysis.\n"
   ]
  },
  {
   "cell_type": "code",
   "execution_count": null,
   "metadata": {
    "cellView": "form",
    "colab": {
     "height": 0
    },
    "colab_type": "code",
    "id": "10AxDzgmFYOa",
    "outputId": "e3d14931-e5eb-4638-bedf-9b1bb78e5105"
   },
   "outputs": [],
   "source": [
    "#@title parsing data\n",
    "mountain_car_df = DF[DF.bsuite_env == 'mountain_car'].copy()\n",
    "summary_analysis.plot_single_experiment(BSUITE_SCORE, 'mountain_car', SWEEP_VARS).draw();"
   ]
  },
  {
   "cell_type": "code",
   "execution_count": null,
   "metadata": {
    "cellView": "form",
    "colab": {
     "height": 0
    },
    "colab_type": "code",
    "id": "PCiai_7_FYOe",
    "outputId": "64f1bcd7-9d1b-4e19-9df9-7c934c6f10be"
   },
   "outputs": [],
   "source": [
    "#@title plot average regret through learning (lower is better)\n",
    "mountain_car_analysis.plot_learning(mountain_car_df, SWEEP_VARS).draw();"
   ]
  },
  {
   "cell_type": "markdown",
   "metadata": {
    "colab_type": "text",
    "id": "mLE9dhuPclv5"
   },
   "source": [
    "**Parsing the plot above:**\n",
    "\n",
    "- Here we can see the performance of the agent averaged over 20 seeds.\n",
    "- Dashed line is at 415 = average regret of a random agent.\n",
    "- Want to see a stable learning curve -> 0 and fast!\n",
    "- Smoothing is performed with rolling mean over 10% of data with confidence bar at 95% Gaussian standard error."
   ]
  },
  {
   "cell_type": "code",
   "execution_count": null,
   "metadata": {
    "cellView": "form",
    "colab": {
     "height": 0
    },
    "colab_type": "code",
    "id": "UotK4LDa4m62",
    "outputId": "d9d05db0-f09e-48d4-a794-9ed9a3dc88c8"
   },
   "outputs": [],
   "source": [
    "#@title plot performance by seed (higher is better)\n",
    "mountain_car_analysis.plot_seeds(mountain_car_df, SWEEP_VARS).draw();"
   ]
  },
  {
   "cell_type": "markdown",
   "metadata": {
    "colab_type": "text",
    "id": "ZpvpbLikNRRG"
   },
   "source": [
    "**Parsing the plot above:**\n",
    "\n",
    "- Here we can see the performance of each agent individually through time.\n",
    "- Higher scores are better, but individual runs may be noisy.\n",
    "- Use this plot to diagnose strange agent behaviour."
   ]
  },
  {
   "cell_type": "markdown",
   "metadata": {
    "colab_type": "text",
    "id": "iKRx2R7DEz5R"
   },
   "source": [
    "### Cartpole\n",
    "\n"
   ]
  },
  {
   "cell_type": "markdown",
   "metadata": {
    "colab_type": "text",
    "id": "XJkGob4ebrRj"
   },
   "source": [
    "\n",
    "<img src=\"https://storage.cloud.google.com/bsuite-colab-images/cartpole.png\" alt=\"cartpole diagram\" height=\"300\"/>\n",
    "\n",
    "A classic benchmark problem in RL.\n",
    "The agent controls a cart on a frictionless plane.\n",
    "\n",
    "- The poles starts near-to upright.\n",
    "- The observation is [x, x_dot, sin(theta), sin(theta)_dot, cos(theta), cos(theta)_dot, time_elapsed]\n",
    "- Episodes end once 1000 steps have occured, or |x| is greater than 1.\n",
    "- Reward of +1 when pole > 0.8 height.\n",
    "- Run 1000 episodes for 20 seeds.\n",
    "- Score is percentage of timesteps balancing the pole.\n",
    "- Must log `episode`, `total_regret` for standard analysis.\n"
   ]
  },
  {
   "cell_type": "code",
   "execution_count": null,
   "metadata": {
    "cellView": "form",
    "colab": {
     "height": 0
    },
    "colab_type": "code",
    "id": "1UFLKInrEz5X",
    "outputId": "db088c5e-d0ab-4477-c4b7-72d77508103b"
   },
   "outputs": [],
   "source": [
    "#@title parsing data\n",
    "cartpole_df = DF[DF.bsuite_env == 'cartpole'].copy()\n",
    "summary_analysis.plot_single_experiment(BSUITE_SCORE, 'cartpole', SWEEP_VARS).draw();"
   ]
  },
  {
   "cell_type": "code",
   "execution_count": null,
   "metadata": {
    "cellView": "form",
    "colab": {
     "height": 0
    },
    "colab_type": "code",
    "id": "CeR8Vgf-Ez5b",
    "outputId": "e2b8a90c-dbdf-4ad4-ffc3-a8795aee0ddc"
   },
   "outputs": [],
   "source": [
    "#@title plot average regret through learning (lower is better)\n",
    "cartpole_analysis.plot_learning(cartpole_df, SWEEP_VARS).draw();"
   ]
  },
  {
   "cell_type": "markdown",
   "metadata": {
    "colab_type": "text",
    "id": "UO1GwYM5ZiSI"
   },
   "source": [
    "**Parsing the plot above:**\n",
    "\n",
    "- Here we can see the performance of the agent averaged over 20 seeds.\n",
    "- Maximum regret of 1000 per episode = dashed line\n",
    "- Want to see a stable learning curve -> 0 and fast!\n",
    "- Smoothing is performed with rolling mean over 10% of data with confidence bar at 95% Gaussian standard error."
   ]
  },
  {
   "cell_type": "code",
   "execution_count": null,
   "metadata": {
    "cellView": "form",
    "colab": {
     "height": 0
    },
    "colab_type": "code",
    "id": "0vWWVcYR4lNZ",
    "outputId": "b367d5ff-37d1-4c18-889b-d3e4617fa67b"
   },
   "outputs": [],
   "source": [
    "#@title plot performance by seed (higher is better)\n",
    "cartpole_analysis.plot_seeds(cartpole_df, SWEEP_VARS).draw();"
   ]
  },
  {
   "cell_type": "markdown",
   "metadata": {
    "colab_type": "text",
    "id": "jZuGijZZNBNU"
   },
   "source": [
    "**Parsing the plot above:**\n",
    "\n",
    "- Here we can see the performance of each agent individually through time.\n",
    "- Higher scores are better, but individual runs may be noisy.\n",
    "- Use this plot to diagnose strange agent behaviour."
   ]
  },
  {
   "cell_type": "markdown",
   "metadata": {
    "colab_type": "text",
    "id": "UQ010l9tFsbG"
   },
   "source": [
    "## Reward noise\n",
    "\n",
    "To investigate the robustness of RL agents to noisy rewards, we repeat the \"basic\" experiments under differing levels of Gaussian noise.\n",
    "\n",
    "This time we allocate the 20 different seeds across 5 levels of Gaussian noise $N(0, \\sigma^2)$ for $\\sigma$ = noise\\_scale = $[0.1, 0.3, 1, 3, 10]$ with 4 seeds each."
   ]
  },
  {
   "cell_type": "markdown",
   "metadata": {
    "colab_type": "text",
    "id": "SWm2u8lpFsbK"
   },
   "source": [
    "### Bandit noise"
   ]
  },
  {
   "cell_type": "markdown",
   "metadata": {
    "colab_type": "text",
    "id": "o27LKuR0d-Bh"
   },
   "source": [
    "<img src=\"https://storage.cloud.google.com/bsuite-colab-images/bandit.png\" alt=\"bandit diagram\" height=\"300\"/>\n",
    "\n",
    "\n",
    "A simple independent-armed bandit problem.\n",
    "\n",
    "- The agent is faced with 11 actions with deterministic rewards [0.0, 0.1, .., 1.0] randomly assigned.\n",
    "- Run noise_scale = [0.1, 0.3, 1., 3, 10] for 4 seeds for 10k episodes.\n",
    "- Score is 1 - 2 * average_regret at 10k episodes.\n",
    "- Must log `episode`, `total_regret` for standard analysis.\n"
   ]
  },
  {
   "cell_type": "code",
   "execution_count": null,
   "metadata": {
    "cellView": "form",
    "colab": {
     "height": 0
    },
    "colab_type": "code",
    "id": "NAU9QFGGFsbL",
    "outputId": "3b65737d-c912-4ffd-b091-7f2563850a63"
   },
   "outputs": [],
   "source": [
    "#@title parsing data\n",
    "bandit_noise_df = DF[DF.bsuite_env == 'bandit_noise'].copy()\n",
    "summary_analysis.plot_single_experiment(BSUITE_SCORE, 'bandit_noise', SWEEP_VARS).draw();"
   ]
  },
  {
   "cell_type": "code",
   "execution_count": null,
   "metadata": {
    "cellView": "form",
    "colab": {
     "height": 0
    },
    "colab_type": "code",
    "id": "cKrEMGjlFsbP",
    "outputId": "ba72ebba-2808-46d9-f09f-f21d9a5bfa2c"
   },
   "outputs": [],
   "source": [
    "#@title average regret over learning (lower is better)\n",
    "bandit_noise_analysis.plot_average(bandit_noise_df, SWEEP_VARS).draw();"
   ]
  },
  {
   "cell_type": "markdown",
   "metadata": {
    "colab_type": "text",
    "id": "szaUeRc4ed6Q"
   },
   "source": [
    "**Parsing the plot above:**\n",
    "- Display the average regret after 10k episodes by noise_scale (lower is better)\n",
    "- Dashed line shows the performance of a random agents.\n",
    "- Look for largest noise_scale with performance significantly better than random agent."
   ]
  },
  {
   "cell_type": "code",
   "execution_count": null,
   "metadata": {
    "cellView": "form",
    "colab": {
     "height": 0
    },
    "colab_type": "code",
    "id": "6fS80_PNF96e",
    "outputId": "dc33a768-c16b-4cb6-cf1b-d013c32db297"
   },
   "outputs": [],
   "source": [
    "#@title average regret through learning (lower is better)\n",
    "bandit_noise_analysis.plot_learning(bandit_noise_df, SWEEP_VARS).draw();"
   ]
  },
  {
   "cell_type": "markdown",
   "metadata": {
    "colab_type": "text",
    "id": "DWHHIRkhejPZ"
   },
   "source": [
    "**Parsing the plot above:**\n",
    "- Display the average regret after 10k episodes by noise_scale (lower is better)\n",
    "- Dashed line shows the performance of a random agent baseline.\n",
    "- Look for largest noise_scale with performance significantly better than baseline."
   ]
  },
  {
   "cell_type": "code",
   "execution_count": null,
   "metadata": {
    "cellView": "form",
    "colab": {
     "height": 0
    },
    "colab_type": "code",
    "id": "9a89RWjd4n4I",
    "outputId": "7bc4345e-c204-4b95-b760-ea827ab107d8"
   },
   "outputs": [],
   "source": [
    "#@title plot performance by seed (higher is better)\n",
    "bandit_noise_analysis.plot_seeds(bandit_noise_df, SWEEP_VARS).draw();"
   ]
  },
  {
   "cell_type": "markdown",
   "metadata": {
    "colab_type": "text",
    "id": "bvbUja5cNbA_"
   },
   "source": [
    "**Parsing the plot above:**\n",
    "\n",
    "- Here we can see the performance of each agent individually through time.\n",
    "- Higher scores are better, but individual runs may be noisy.\n",
    "- Use this plot to diagnose strange agent behaviour."
   ]
  },
  {
   "cell_type": "markdown",
   "metadata": {
    "colab_type": "text",
    "id": "XeeO3UdkHvro"
   },
   "source": [
    "### MNIST noise"
   ]
  },
  {
   "cell_type": "markdown",
   "metadata": {
    "colab_type": "text",
    "id": "KQU-bBpCeMXS"
   },
   "source": [
    "\n",
    "<img src=\"https://storage.cloud.google.com/bsuite-colab-images/mnist.png\" alt=\"mnist diagram\" height=\"300\"/>\n",
    "\n",
    "The \"hello world\" of deep learning, now as a contextual bandit.\n",
    "\n",
    "- Every timestep the agent must classify a random MNIST digit.\n",
    "- Reward +1 for correct, -1 for incorrect.\n",
    "- Run noise_scale = [0.1, 0.3, 1., 3, 10] for 4 seeds for 10k episodes.\n",
    "- Score is percentage of successful classifications.\n",
    "- Must log `episode`, `total_regret` for standard analysis."
   ]
  },
  {
   "cell_type": "code",
   "execution_count": null,
   "metadata": {
    "cellView": "form",
    "colab": {
     "height": 0
    },
    "colab_type": "code",
    "id": "3gHxu0e4Hvrp",
    "outputId": "a4509f42-ca04-4eef-b5c5-846949268ad2"
   },
   "outputs": [],
   "source": [
    "#@title parsing data\n",
    "mnist_noise_df = DF[DF.bsuite_env == 'mnist_noise'].copy()\n",
    "summary_analysis.plot_single_experiment(BSUITE_SCORE, 'mnist_noise', SWEEP_VARS).draw();"
   ]
  },
  {
   "cell_type": "code",
   "execution_count": null,
   "metadata": {
    "cellView": "form",
    "colab": {
     "height": 0
    },
    "colab_type": "code",
    "id": "HsNrBsl3Hvrx",
    "outputId": "49496df7-8bc4-45b2-9e6e-d28180a00d1a"
   },
   "outputs": [],
   "source": [
    "#@title average regret over learning (lower is better)\n",
    "mnist_noise_analysis.plot_average(mnist_noise_df, SWEEP_VARS).draw();"
   ]
  },
  {
   "cell_type": "markdown",
   "metadata": {
    "colab_type": "text",
    "id": "m_q0mBBvfgq6"
   },
   "source": [
    "**Parsing the plot above:**\n",
    "- Display the average regret after 10k episodes by noise_scale (lower is better)\n",
    "- Dashed line shows the performance of a random agents.\n",
    "- Look for largest noise_scale with performance significantly better than random agent."
   ]
  },
  {
   "cell_type": "code",
   "execution_count": null,
   "metadata": {
    "cellView": "form",
    "colab": {
     "height": 0
    },
    "colab_type": "code",
    "id": "6vKxHHfGHvr4",
    "outputId": "736e4b4d-965b-4035-b940-b2f0df712291"
   },
   "outputs": [],
   "source": [
    "#@title average regret through learning (lower is better)\n",
    "mnist_noise_analysis.plot_learning(mnist_noise_df, SWEEP_VARS).draw();"
   ]
  },
  {
   "cell_type": "markdown",
   "metadata": {
    "colab_type": "text",
    "id": "gFquOp8YfenD"
   },
   "source": [
    "**Parsing the plot above:**\n",
    "- Display the average regret after 10k episodes by noise_scale (lower is better)\n",
    "- Dashed line shows the performance of a random agent baseline.\n",
    "- Look for largest noise_scale with performance significantly better than baseline."
   ]
  },
  {
   "cell_type": "code",
   "execution_count": null,
   "metadata": {
    "cellView": "form",
    "colab": {},
    "colab_type": "code",
    "id": "H_wJ_oLq4o5K"
   },
   "outputs": [],
   "source": [
    "#@title plot performance by seed (higher is better)\n",
    "mnist_noise_analysis.plot_seeds(mnist_noise_df, SWEEP_VARS).draw;"
   ]
  },
  {
   "cell_type": "markdown",
   "metadata": {
    "colab_type": "text",
    "id": "Ft77N63zNcKf"
   },
   "source": [
    "**Parsing the plot above:**\n",
    "\n",
    "- Here we can see the performance of each agent individually through time.\n",
    "- Higher scores are better, but individual runs may be noisy.\n",
    "- Use this plot to diagnose strange agent behaviour."
   ]
  },
  {
   "cell_type": "markdown",
   "metadata": {
    "colab_type": "text",
    "id": "BhNvrDHtFsbW"
   },
   "source": [
    "### Catch noise"
   ]
  },
  {
   "cell_type": "markdown",
   "metadata": {
    "colab_type": "text",
    "id": "cuwO8ePyfnMF"
   },
   "source": [
    "<img src=\"https://storage.cloud.google.com/bsuite-colab-images/catch.png\" alt=\"catch diagram\" height=\"300\"/>\n",
    "\n",
    "\n",
    "DeepMind's internal \"hello world\" for RL agents.\n",
    "\n",
    "- The environment is a 5x10 grid with a single falling block per episodes (similar to Tetris).\n",
    "- The agent controls a single \"paddle\" pixel that it should use to \"catch\" the falling block.\n",
    "- If the agent catches the block reward +1, if the agent misses the block reward -1.\n",
    "- Run noise_scale = [0.1, 0.3, 1., 3, 10] for 4 seeds for 10k episodes.\n",
    "-   Score is percentage of successful \"catch\" over first 10k episodes.\n",
    "-   Must log `episode`, `total_regret` for standard analysis.\n",
    "\n"
   ]
  },
  {
   "cell_type": "code",
   "execution_count": null,
   "metadata": {
    "cellView": "form",
    "colab": {
     "height": 0
    },
    "colab_type": "code",
    "id": "PfrF58GRFsbX",
    "outputId": "6f6ef0aa-0985-436d-c574-583ef85a6648"
   },
   "outputs": [],
   "source": [
    "#@title parsing data\n",
    "catch_noise_df = DF[DF.bsuite_env == 'catch_noise'].copy()\n",
    "summary_analysis.plot_single_experiment(BSUITE_SCORE, 'catch_noise', SWEEP_VARS).draw();"
   ]
  },
  {
   "cell_type": "code",
   "execution_count": null,
   "metadata": {
    "cellView": "form",
    "colab": {
     "height": 0
    },
    "colab_type": "code",
    "id": "QIHLMrZBFsba",
    "outputId": "09d1b869-6471-4605-fe10-c56bee76bdb0"
   },
   "outputs": [],
   "source": [
    "#@title average regret over learning (lower is better)\n",
    "catch_noise_analysis.plot_average(catch_noise_df, SWEEP_VARS).draw();"
   ]
  },
  {
   "cell_type": "markdown",
   "metadata": {
    "colab_type": "text",
    "id": "KQne2I0TgIQN"
   },
   "source": [
    "**Parsing the plot above:**\n",
    "- Display the average regret after 10k episodes by noise_scale (lower is better)\n",
    "- Dashed line shows the performance of a random agents.\n",
    "- Look for largest noise_scale with performance significantly better than random agent."
   ]
  },
  {
   "cell_type": "code",
   "execution_count": null,
   "metadata": {
    "cellView": "form",
    "colab": {
     "height": 0
    },
    "colab_type": "code",
    "id": "ChxlGZ3MGf9n",
    "outputId": "f8145501-3cf0-4d04-9bb2-10fcb68fefb3"
   },
   "outputs": [],
   "source": [
    "#@title average regret through learning (lower is better)\n",
    "catch_noise_analysis.plot_learning(catch_noise_df, SWEEP_VARS).draw();"
   ]
  },
  {
   "cell_type": "markdown",
   "metadata": {
    "colab_type": "text",
    "id": "ZTYufA6_gLA6"
   },
   "source": [
    "**Parsing the plot above:**\n",
    "- Display the average regret after 10k episodes by noise_scale (lower is better)\n",
    "- Dashed line shows the performance of a random agent baseline.\n",
    "- Look for largest noise_scale with performance significantly better than baseline."
   ]
  },
  {
   "cell_type": "code",
   "execution_count": null,
   "metadata": {
    "cellView": "form",
    "colab": {
     "height": 0
    },
    "colab_type": "code",
    "id": "_zT9y1NA4poe",
    "outputId": "c890c095-5eeb-4515-d38e-ec3d3c91827f"
   },
   "outputs": [],
   "source": [
    "#@title plot performance by seed (higher is better)\n",
    "catch_noise_analysis.plot_seeds(catch_noise_df, SWEEP_VARS).draw();"
   ]
  },
  {
   "cell_type": "markdown",
   "metadata": {
    "colab_type": "text",
    "id": "wQ15ZnVgNc6n"
   },
   "source": [
    "**Parsing the plot above:**\n",
    "\n",
    "- Here we can see the performance of each agent individually through time.\n",
    "- Higher scores are better, but individual runs may be noisy.\n",
    "- Use this plot to diagnose strange agent behaviour."
   ]
  },
  {
   "cell_type": "markdown",
   "metadata": {
    "colab_type": "text",
    "id": "PvkWAhKAFsbo"
   },
   "source": [
    "### Mountain car noise"
   ]
  },
  {
   "cell_type": "markdown",
   "metadata": {
    "colab_type": "text",
    "id": "U3I25hMAf-5i"
   },
   "source": [
    "<img src=\"https://storage.cloud.google.com/bsuite-colab-images/mountain_car.png\" alt=\"mountaincar diagram\" height=\"300\"/>\n",
    "\n",
    "A classic benchmark problem in RL.\n",
    "The agent controls an underpowered car and must drive it out of a valley.\n",
    "\n",
    "- Reward of -1 each step until the car reaches the goal.\n",
    "- Maximum episode length of 1000 steps.\n",
    "- Run noise_scale = [0.1, 0.3, 1., 3, 10] for 4 seeds for 1k episodes.\n",
    "- Score is based on regret against \"good\" policy that solves in 25 steps.\n",
    "- Must log `episode`, `total_regret` for standard analysis.\n"
   ]
  },
  {
   "cell_type": "code",
   "execution_count": null,
   "metadata": {
    "cellView": "form",
    "colab": {
     "height": 0
    },
    "colab_type": "code",
    "id": "_5AaZZRhFsbo",
    "outputId": "5ae3e27d-5b6d-410e-fc8f-424503299dd4"
   },
   "outputs": [],
   "source": [
    "#@title parsing data\n",
    "mountain_car_noise_df = DF[DF.bsuite_env == 'mountain_car_noise'].copy()\n",
    "summary_analysis.plot_single_experiment(BSUITE_SCORE, 'mountain_car_noise', SWEEP_VARS).draw();"
   ]
  },
  {
   "cell_type": "code",
   "execution_count": null,
   "metadata": {
    "cellView": "form",
    "colab": {
     "height": 0
    },
    "colab_type": "code",
    "id": "LCBxH1IJFsbu",
    "outputId": "44345742-6c3d-439d-a101-ef2f6adae528"
   },
   "outputs": [],
   "source": [
    "#@title average regret over learning (lower is better)\n",
    "mountain_car_noise_analysis.plot_average(mountain_car_noise_df, SWEEP_VARS).draw();"
   ]
  },
  {
   "cell_type": "markdown",
   "metadata": {
    "colab_type": "text",
    "id": "l2f9gSdNgOay"
   },
   "source": [
    "**Parsing the plot above:**\n",
    "- Display the average regret after 10k episodes by noise_scale (lower is better)\n",
    "- Dashed line shows the performance of a random agents.\n",
    "- Look for largest noise_scale with performance significantly better than random agent."
   ]
  },
  {
   "cell_type": "code",
   "execution_count": null,
   "metadata": {
    "cellView": "form",
    "colab": {
     "height": 0
    },
    "colab_type": "code",
    "id": "DDXxo_9vH1u9",
    "outputId": "d05e9f90-bb9c-402e-ce84-f47769bdc2ff"
   },
   "outputs": [],
   "source": [
    "#@title average regret through learning (lower is better)\n",
    "mountain_car_noise_analysis.plot_learning(mountain_car_noise_df, SWEEP_VARS).draw();"
   ]
  },
  {
   "cell_type": "markdown",
   "metadata": {
    "colab_type": "text",
    "id": "cm_g7R2cgM7D"
   },
   "source": [
    "**Parsing the plot above:**\n",
    "- Display the average regret after 10k episodes by noise_scale (lower is better)\n",
    "- Dashed line shows the performance of a random agent baseline.\n",
    "- Look for largest noise_scale with performance significantly better than baseline."
   ]
  },
  {
   "cell_type": "code",
   "execution_count": null,
   "metadata": {
    "cellView": "form",
    "colab": {
     "height": 0
    },
    "colab_type": "code",
    "id": "uWCJrwHK4tKb",
    "outputId": "1291733e-ef88-4c0f-d6b5-39452329d2ce"
   },
   "outputs": [],
   "source": [
    "#@title plot performance by seed (higher is better)\n",
    "mountain_car_noise_analysis.plot_seeds(mountain_car_noise_df, SWEEP_VARS).draw();"
   ]
  },
  {
   "cell_type": "markdown",
   "metadata": {
    "colab_type": "text",
    "id": "atMZdJBQNfNy"
   },
   "source": [
    "**Parsing the plot above:**\n",
    "\n",
    "- Here we can see the performance of each agent individually through time.\n",
    "- Higher scores are better, but individual runs may be noisy.\n",
    "- Use this plot to diagnose strange agent behaviour."
   ]
  },
  {
   "cell_type": "markdown",
   "metadata": {
    "colab_type": "text",
    "id": "_OXjiYVTFsbe"
   },
   "source": [
    "### Cartpole noise"
   ]
  },
  {
   "cell_type": "markdown",
   "metadata": {
    "colab_type": "text",
    "id": "zGPI8tqyf7E-"
   },
   "source": [
    "\n",
    "<img src=\"https://storage.cloud.google.com/bsuite-colab-images/cartpole.png\" alt=\"cartpole diagram\" height=\"300\"/>\n",
    "\n",
    "A classic benchmark problem in RL.\n",
    "The agent controls a cart on a frictionless plane.\n",
    "\n",
    "- The poles starts near-to upright.\n",
    "- The observation is [x, x_dot, sin(theta), sin(theta)_dot, cos(theta), cos(theta)_dot, time_elapsed]\n",
    "- Episodes end once 1000 steps have occured, or |x| is greater than 1.\n",
    "- Reward of +1 when pole > 0.8 height.\n",
    "- Run noise_scale = [0.1, 0.3, 1., 3, 10] for 4 seeds for 1k episodes.\n",
    "- Score is percentage of timesteps balancing the pole.\n",
    "- Must log `episode`, `total_regret` for standard analysis.\n"
   ]
  },
  {
   "cell_type": "code",
   "execution_count": null,
   "metadata": {
    "cellView": "form",
    "colab": {
     "height": 0
    },
    "colab_type": "code",
    "id": "wJpb89yUFsbf",
    "outputId": "d4c0323e-395e-40bf-bcb5-d4e89f8ae79c"
   },
   "outputs": [],
   "source": [
    "#@title parsing  data\n",
    "cartpole_noise_df = DF[DF.bsuite_env == 'cartpole_noise'].copy()\n",
    "summary_analysis.plot_single_experiment(BSUITE_SCORE, 'cartpole_noise', SWEEP_VARS).draw();"
   ]
  },
  {
   "cell_type": "code",
   "execution_count": null,
   "metadata": {
    "cellView": "form",
    "colab": {
     "height": 0
    },
    "colab_type": "code",
    "id": "asG7gr5_Fsbi",
    "outputId": "9e92cfa2-3502-44dd-aa46-d3761301542d"
   },
   "outputs": [],
   "source": [
    "#@title average regret over learning (lower is better)\n",
    "cartpole_noise_analysis.plot_average(cartpole_noise_df, SWEEP_VARS).draw();"
   ]
  },
  {
   "cell_type": "markdown",
   "metadata": {
    "colab_type": "text",
    "id": "wPOUkkq1gJBS"
   },
   "source": [
    "**Parsing the plot above:**\n",
    "- Display the average regret after 10k episodes by noise_scale (lower is better)\n",
    "- Dashed line shows the performance of a random agents.\n",
    "- Look for largest noise_scale with performance significantly better than random agent."
   ]
  },
  {
   "cell_type": "code",
   "execution_count": null,
   "metadata": {
    "cellView": "form",
    "colab": {
     "height": 0
    },
    "colab_type": "code",
    "id": "kZrjk8WSHqUm",
    "outputId": "4681ab4a-679c-44c5-9fc3-b81126a9f615"
   },
   "outputs": [],
   "source": [
    "#@title average regret through learning (lower is better)\n",
    "cartpole_noise_analysis.plot_learning(cartpole_noise_df, SWEEP_VARS).draw();"
   ]
  },
  {
   "cell_type": "markdown",
   "metadata": {
    "colab_type": "text",
    "id": "vRa8iMYJgMCx"
   },
   "source": [
    "**Parsing the plot above:**\n",
    "- Display the average regret after 10k episodes by noise_scale (lower is better)\n",
    "- Dashed line shows the performance of a random agent baseline.\n",
    "- Look for largest noise_scale with performance significantly better than baseline."
   ]
  },
  {
   "cell_type": "code",
   "execution_count": null,
   "metadata": {
    "cellView": "form",
    "colab": {
     "height": 0
    },
    "colab_type": "code",
    "id": "vBEKq2zq4qh5",
    "outputId": "d8e44c31-939c-462b-abcf-fd828e3b4657"
   },
   "outputs": [],
   "source": [
    "#@title plot performance by seed (higher is better)\n",
    "cartpole_noise_analysis.plot_seeds(cartpole_noise_df, SWEEP_VARS).draw();"
   ]
  },
  {
   "cell_type": "markdown",
   "metadata": {
    "colab_type": "text",
    "id": "ZXAVj3SrNd6P"
   },
   "source": [
    "**Parsing the plot above:**\n",
    "\n",
    "- Here we can see the performance of each agent individually through time.\n",
    "- Higher scores are better, but individual runs may be noisy.\n",
    "- Use this plot to diagnose strange agent behaviour."
   ]
  },
  {
   "cell_type": "markdown",
   "metadata": {
    "colab_type": "text",
    "id": "zCNVq9M0IEpT"
   },
   "source": [
    "## Reward scale\n",
    "\n",
    "To investigate the robustness of RL agents to reward rewards, we repeat the \"basic\" experiments under differing levels of problem rescaling.\n",
    "\n",
    "This time we allocate the 20 different seeds across 5 levels of reward\\_scale = $[0.1, 0.3, 1, 3, 10]$ with 4 seeds each.\n",
    "\n",
    "In order to keep comparable statistics/regret we report rescaled regret/reward\\_scale."
   ]
  },
  {
   "cell_type": "markdown",
   "metadata": {
    "colab_type": "text",
    "id": "U5B77UDjIEpY"
   },
   "source": [
    "### Bandit scale"
   ]
  },
  {
   "cell_type": "markdown",
   "metadata": {
    "colab_type": "text",
    "id": "JscWOhKOiA60"
   },
   "source": [
    "<img src=\"https://storage.cloud.google.com/bsuite-colab-images/bandit.png\" alt=\"bandit diagram\" height=\"300\"/>\n",
    "\n",
    "\n",
    "A simple independent-armed bandit problem.\n",
    "\n",
    "- The agent is faced with 11 actions with deterministic rewards [0.0, 0.1, .., 1.0] randomly assigned.\n",
    "- Run reward_scale = [0.01, 0.1, 1., 10, 100] for 4 seeds for 10k episodes.\n",
    "- Score is 1 - 2 * average_regret at 10k episodes.\n",
    "- Must log `episode`, `total_regret` for standard analysis.\n"
   ]
  },
  {
   "cell_type": "code",
   "execution_count": null,
   "metadata": {
    "cellView": "form",
    "colab": {
     "height": 0
    },
    "colab_type": "code",
    "id": "XgOuCckcIEpb",
    "outputId": "76393dd7-80d0-4c34-fe7d-fbf8b2bc63a5"
   },
   "outputs": [],
   "source": [
    "#@title parsing data\n",
    "bandit_scale_df = DF[DF.bsuite_env == 'bandit_scale'].copy()\n",
    "summary_analysis.plot_single_experiment(BSUITE_SCORE, 'bandit_scale', SWEEP_VARS).draw();"
   ]
  },
  {
   "cell_type": "code",
   "execution_count": null,
   "metadata": {
    "cellView": "form",
    "colab": {
     "height": 0
    },
    "colab_type": "code",
    "id": "3vR6CvD8IEpd",
    "outputId": "d3a5838e-ae78-4fbc-fc20-d89084b4807d"
   },
   "outputs": [],
   "source": [
    "#@title average regret over learning (lower is better)\n",
    "bandit_scale_analysis.plot_average(bandit_scale_df, SWEEP_VARS).draw();"
   ]
  },
  {
   "cell_type": "markdown",
   "metadata": {
    "colab_type": "text",
    "id": "dNHc7dECukLF"
   },
   "source": [
    "**Parsing the plot above:**\n",
    "- Display the average regret after 10k episodes by reward_scale (lower is better)\n",
    "- Dashed line shows the performance of a random agents.\n",
    "- Look for reward_scale with performance significantly better than random agent."
   ]
  },
  {
   "cell_type": "code",
   "execution_count": null,
   "metadata": {
    "cellView": "form",
    "colab": {
     "height": 0
    },
    "colab_type": "code",
    "id": "_qkiiY16IEpi",
    "outputId": "a9df210d-8ddf-4b0d-d7c0-1a213e34e4f6"
   },
   "outputs": [],
   "source": [
    "#@title average regret through learning (lower is better)\n",
    "bandit_scale_analysis.plot_learning(bandit_scale_df, SWEEP_VARS).draw();"
   ]
  },
  {
   "cell_type": "markdown",
   "metadata": {
    "colab_type": "text",
    "id": "4gd87xYWuvLa"
   },
   "source": [
    "**Parsing the plot above:**\n",
    "- Display the average regret after 10k episodes by reward_scale (lower is better)\n",
    "- Dashed line shows the performance of a random agent baseline.\n",
    "- Look for reward_scale with performance significantly better than baseline."
   ]
  },
  {
   "cell_type": "code",
   "execution_count": null,
   "metadata": {
    "cellView": "form",
    "colab": {
     "height": 0
    },
    "colab_type": "code",
    "id": "hUTzD5tj4vZq",
    "outputId": "e2d3a578-afb2-4a7d-c778-d458cfb80308"
   },
   "outputs": [],
   "source": [
    "#@title plot performance by seed (higher is better)\n",
    "bandit_scale_analysis.plot_seeds(bandit_scale_df, SWEEP_VARS).draw();"
   ]
  },
  {
   "cell_type": "markdown",
   "metadata": {
    "colab_type": "text",
    "id": "22rddkYVNf8f"
   },
   "source": [
    "**Parsing the plot above:**\n",
    "\n",
    "- Here we can see the performance of each agent individually through time.\n",
    "- Higher scores are better, but individual runs may be noisy.\n",
    "- Use this plot to diagnose strange agent behaviour."
   ]
  },
  {
   "cell_type": "markdown",
   "metadata": {
    "colab_type": "text",
    "id": "hPlIUnPgIBb5"
   },
   "source": [
    "### MNIST scale"
   ]
  },
  {
   "cell_type": "markdown",
   "metadata": {
    "colab_type": "text",
    "id": "Xo6uxj7iiGSL"
   },
   "source": [
    "\n",
    "<img src=\"https://storage.cloud.google.com/bsuite-colab-images/mnist.png\" alt=\"mnist diagram\" height=\"300\"/>\n",
    "\n",
    "The \"hello world\" of deep learning, now as a contextual bandit.\n",
    "\n",
    "- Every timestep the agent must classify a random MNIST digit.\n",
    "- Reward +1 for correct, -1 for incorrect.\n",
    "- Run reward_scale = [0.01, 0.1, 1., 10, 100] for 4 seeds for 10k episodes.\n",
    "- Score is percentage of successful classifications.\n",
    "- Must log `episode`, `total_regret` for standard analysis."
   ]
  },
  {
   "cell_type": "code",
   "execution_count": null,
   "metadata": {
    "cellView": "form",
    "colab": {
     "height": 0
    },
    "colab_type": "code",
    "id": "KUp30dhSIBb6",
    "outputId": "74b96acc-0b99-4c3f-cb6b-e15793e74319"
   },
   "outputs": [],
   "source": [
    "#@title parsing data\n",
    "mnist_scale_df = DF[DF.bsuite_env == 'mnist_scale'].copy()\n",
    "summary_analysis.plot_single_experiment(BSUITE_SCORE, 'mnist_scale', SWEEP_VARS).draw();"
   ]
  },
  {
   "cell_type": "code",
   "execution_count": null,
   "metadata": {
    "cellView": "form",
    "colab": {
     "height": 0
    },
    "colab_type": "code",
    "id": "opeE-AlYIBb8",
    "outputId": "9817f48a-d71c-457a-bef8-aa0629c45004"
   },
   "outputs": [],
   "source": [
    "#@title average regret over learning (lower is better)\n",
    "mnist_scale_analysis.plot_average(mnist_scale_df, SWEEP_VARS).draw();"
   ]
  },
  {
   "cell_type": "markdown",
   "metadata": {
    "colab_type": "text",
    "id": "vpeAlsxluomy"
   },
   "source": [
    "**Parsing the plot above:**\n",
    "- Display the average regret after 10k episodes by reward_scale (lower is better)\n",
    "- Dashed line shows the performance of a random agents.\n",
    "- Look for reward_scale with performance significantly better than random agent."
   ]
  },
  {
   "cell_type": "code",
   "execution_count": null,
   "metadata": {
    "cellView": "form",
    "colab": {
     "height": 0
    },
    "colab_type": "code",
    "id": "QoJe7269IBcA",
    "outputId": "387fc93f-c8af-46bd-a6ce-d011a9190d5a"
   },
   "outputs": [],
   "source": [
    "#@title average regret through learning (lower is better)\n",
    "mnist_scale_analysis.plot_learning(mnist_scale_df, SWEEP_VARS).draw();"
   ]
  },
  {
   "cell_type": "markdown",
   "metadata": {
    "colab_type": "text",
    "id": "nTCeZEkTuy9q"
   },
   "source": [
    "**Parsing the plot above:**\n",
    "- Display the average regret after 10k episodes by reward_scale (lower is better)\n",
    "- Dashed line shows the performance of a random agent baseline.\n",
    "- Look for reward_scale with performance significantly better than baseline."
   ]
  },
  {
   "cell_type": "code",
   "execution_count": null,
   "metadata": {
    "cellView": "form",
    "colab": {
     "height": 0
    },
    "colab_type": "code",
    "id": "G-KfqyMQ4wEa",
    "outputId": "604b5ec9-c161-4593-ea49-65e75ff4621a"
   },
   "outputs": [],
   "source": [
    "#@title plot performance by seed (higher is better)\n",
    "mnist_scale_analysis.plot_seeds(mnist_scale_df, SWEEP_VARS).draw();"
   ]
  },
  {
   "cell_type": "markdown",
   "metadata": {
    "colab_type": "text",
    "id": "BM9Dde95Ngwn"
   },
   "source": [
    "**Parsing the plot above:**\n",
    "\n",
    "- Here we can see the performance of each agent individually through time.\n",
    "- Higher scores are better, but individual runs may be noisy.\n",
    "- Use this plot to diagnose strange agent behaviour."
   ]
  },
  {
   "cell_type": "markdown",
   "metadata": {
    "colab_type": "text",
    "id": "PweN9CwBIEps"
   },
   "source": [
    "### Catch scale"
   ]
  },
  {
   "cell_type": "markdown",
   "metadata": {
    "colab_type": "text",
    "id": "xv0kzFFGiLnL"
   },
   "source": [
    "<img src=\"https://storage.cloud.google.com/bsuite-colab-images/catch.png\" alt=\"catch diagram\" height=\"300\"/>\n",
    "\n",
    "\n",
    "DeepMind's internal \"hello world\" for RL agents.\n",
    "\n",
    "- The environment is a 5x10 grid with a single falling block per episodes (similar to Tetris).\n",
    "- The agent controls a single \"paddle\" pixel that it should use to \"catch\" the falling block.\n",
    "- If the agent catches the block reward +1, if the agent misses the block reward -1.\n",
    "- Run reward_scale = [0.01, 0.1, 1., 10, 100] for 4 seeds for 10k episodes.\n",
    "-   Score is percentage of successful \"catch\" over first 10k episodes.\n",
    "-   Must log `episode`, `total_regret` for standard analysis.\n",
    "\n"
   ]
  },
  {
   "cell_type": "code",
   "execution_count": null,
   "metadata": {
    "cellView": "form",
    "colab": {
     "height": 0
    },
    "colab_type": "code",
    "id": "C03JJqYkIEpv",
    "outputId": "48982180-1eb4-453d-bb9b-86a2d2f77ec9"
   },
   "outputs": [],
   "source": [
    "#@title parsing data\n",
    "catch_scale_df = DF[DF.bsuite_env == 'catch_scale'].copy()\n",
    "summary_analysis.plot_single_experiment(BSUITE_SCORE, 'catch_scale', SWEEP_VARS).draw();"
   ]
  },
  {
   "cell_type": "code",
   "execution_count": null,
   "metadata": {
    "cellView": "form",
    "colab": {
     "height": 0
    },
    "colab_type": "code",
    "id": "d_vt5a__IEpz",
    "outputId": "ff852add-df51-4c1c-d597-047e8995d40c"
   },
   "outputs": [],
   "source": [
    "#@title average regret over learning (lower is better)\n",
    "catch_scale_analysis.plot_average(catch_scale_df, SWEEP_VARS).draw();"
   ]
  },
  {
   "cell_type": "markdown",
   "metadata": {
    "colab_type": "text",
    "id": "FMf_UvCFupuv"
   },
   "source": [
    "**Parsing the plot above:**\n",
    "- Display the average regret after 10k episodes by reward_scale (lower is better)\n",
    "- Dashed line shows the performance of a random agents.\n",
    "- Look for reward_scale with performance significantly better than random agent."
   ]
  },
  {
   "cell_type": "code",
   "execution_count": null,
   "metadata": {
    "cellView": "form",
    "colab": {
     "height": 0
    },
    "colab_type": "code",
    "id": "VSXonpvuIEp5",
    "outputId": "6a647786-ff19-4b03-adb4-d7ce87bed30e"
   },
   "outputs": [],
   "source": [
    "#@title average regret through learning (lower is better)\n",
    "catch_scale_analysis.plot_learning(catch_scale_df, SWEEP_VARS).draw();"
   ]
  },
  {
   "cell_type": "markdown",
   "metadata": {
    "colab_type": "text",
    "id": "tyE8auVluzqa"
   },
   "source": [
    "**Parsing the plot above:**\n",
    "- Display the average regret after 10k episodes by reward_scale (lower is better)\n",
    "- Dashed line shows the performance of a random agent baseline.\n",
    "- Look for reward_scale with performance significantly better than baseline."
   ]
  },
  {
   "cell_type": "code",
   "execution_count": null,
   "metadata": {
    "cellView": "form",
    "colab": {
     "height": 0
    },
    "colab_type": "code",
    "id": "Q0CtosBw4wwx",
    "outputId": "92c42c18-8f3b-4b8e-9c36-f40cf685aaf3"
   },
   "outputs": [],
   "source": [
    "#@title plot performance by seed (higher is better)\n",
    "catch_scale_analysis.plot_seeds(catch_scale_df, SWEEP_VARS).draw();"
   ]
  },
  {
   "cell_type": "markdown",
   "metadata": {
    "colab_type": "text",
    "id": "DG5P82d-NhoP"
   },
   "source": [
    "**Parsing the plot above:**\n",
    "\n",
    "- Here we can see the performance of each agent individually through time.\n",
    "- Higher scores are better, but individual runs may be noisy.\n",
    "- Use this plot to diagnose strange agent behaviour."
   ]
  },
  {
   "cell_type": "markdown",
   "metadata": {
    "colab_type": "text",
    "id": "-Tbhu6tKIEqG"
   },
   "source": [
    "### Mountain car scale"
   ]
  },
  {
   "cell_type": "markdown",
   "metadata": {
    "colab_type": "text",
    "id": "0reSPxfYiVNL"
   },
   "source": [
    "<img src=\"https://storage.cloud.google.com/bsuite-colab-images/mountain_car.png\" alt=\"mountaincar diagram\" height=\"300\"/>\n",
    "\n",
    "A classic benchmark problem in RL.\n",
    "The agent controls an underpowered car and must drive it out of a valley.\n",
    "\n",
    "- Reward of -1 each step until the car reaches the goal.\n",
    "- Maximum episode length of 1000 steps.\n",
    "- Run reward_scale = [0.01, 0.1, 1., 10, 100] for 4 seeds for 1k episodes.\n",
    "- Score is based on regret against \"good\" policy that solves in 25 steps.\n",
    "- Must log `episode`, `total_regret` for standard analysis.\n"
   ]
  },
  {
   "cell_type": "code",
   "execution_count": null,
   "metadata": {
    "cellView": "form",
    "colab": {
     "height": 0
    },
    "colab_type": "code",
    "id": "xtDJON_4IEqH",
    "outputId": "de3f1957-e874-4468-cab7-81bdb97f0de1"
   },
   "outputs": [],
   "source": [
    "#@title parsing data\n",
    "mountain_car_scale_df = DF[DF.bsuite_env == 'mountain_car_scale'].copy()\n",
    "summary_analysis.plot_single_experiment(BSUITE_SCORE, 'mountain_car_scale', SWEEP_VARS).draw();"
   ]
  },
  {
   "cell_type": "code",
   "execution_count": null,
   "metadata": {
    "cellView": "form",
    "colab": {
     "height": 0
    },
    "colab_type": "code",
    "id": "-EfiYNQhIEqI",
    "outputId": "0f0aa48f-ef09-47f5-b9f7-53e5087089fd"
   },
   "outputs": [],
   "source": [
    "#@title average regret over learning (lower is better)\n",
    "mountain_car_scale_analysis.plot_average(mountain_car_scale_df, SWEEP_VARS).draw();"
   ]
  },
  {
   "cell_type": "markdown",
   "metadata": {
    "colab_type": "text",
    "id": "_WtMKupHurkM"
   },
   "source": [
    "**Parsing the plot above:**\n",
    "- Display the average regret after 10k episodes by reward_scale (lower is better)\n",
    "- Dashed line shows the performance of a random agents.\n",
    "- Look for reward_scale with performance significantly better than random agent."
   ]
  },
  {
   "cell_type": "code",
   "execution_count": null,
   "metadata": {
    "cellView": "form",
    "colab": {
     "height": 0
    },
    "colab_type": "code",
    "id": "bZMxcgQkIEqL",
    "outputId": "8b4ccd0a-7897-4f2a-83f8-81fe204bd6e1"
   },
   "outputs": [],
   "source": [
    "#@title average regret through learning (lower is better)\n",
    "mountain_car_scale_analysis.plot_learning(mountain_car_scale_df, SWEEP_VARS).draw();"
   ]
  },
  {
   "cell_type": "markdown",
   "metadata": {
    "colab_type": "text",
    "id": "ZfIb7ZNnu1UK"
   },
   "source": [
    "**Parsing the plot above:**\n",
    "- Display the average regret after 10k episodes by reward_scale (lower is better)\n",
    "- Dashed line shows the performance of a random agent baseline.\n",
    "- Look for reward_scale with performance significantly better than baseline."
   ]
  },
  {
   "cell_type": "code",
   "execution_count": null,
   "metadata": {
    "cellView": "form",
    "colab": {
     "height": 0
    },
    "colab_type": "code",
    "id": "HzzdOtA_4yXu",
    "outputId": "6c2ba380-845f-4d02-e9c4-948b7216daf6"
   },
   "outputs": [],
   "source": [
    "#@title plot performance by seed (higher is better)\n",
    "mountain_car_scale_analysis.plot_seeds(mountain_car_scale_df, SWEEP_VARS).draw();"
   ]
  },
  {
   "cell_type": "markdown",
   "metadata": {
    "colab_type": "text",
    "id": "NcQJaFUBNjQe"
   },
   "source": [
    "**Parsing the plot above:**\n",
    "\n",
    "- Here we can see the performance of each agent individually through time.\n",
    "- Higher scores are better, but individual runs may be noisy.\n",
    "- Use this plot to diagnose strange agent behaviour."
   ]
  },
  {
   "cell_type": "markdown",
   "metadata": {
    "colab_type": "text",
    "id": "USfDNwCtIEp9"
   },
   "source": [
    "### Cartpole scale"
   ]
  },
  {
   "cell_type": "markdown",
   "metadata": {
    "colab_type": "text",
    "id": "F0LcbVm3iSM6"
   },
   "source": [
    "\n",
    "<img src=\"https://storage.cloud.google.com/bsuite-colab-images/cartpole.png\" alt=\"cartpole diagram\" height=\"300\"/>\n",
    "\n",
    "A classic benchmark problem in RL.\n",
    "The agent controls a cart on a frictionless plane.\n",
    "\n",
    "- The poles starts near-to upright.\n",
    "- The observation is [x, x_dot, sin(theta), sin(theta)_dot, cos(theta), cos(theta)_dot, time_elapsed]\n",
    "- Episodes end once 1000 steps have occured, or |x| is greater than 1.\n",
    "- Reward of +1 when pole > 0.8 height.\n",
    "- Run reward_scale = [0.01, 0.1, 1., 10, 100] for 4 seeds for 1k episodes.\n",
    "- Score is percentage of timesteps balancing the pole.\n",
    "- Must log `episode`, `total_regret` for standard analysis.\n"
   ]
  },
  {
   "cell_type": "code",
   "execution_count": null,
   "metadata": {
    "cellView": "form",
    "colab": {
     "height": 0
    },
    "colab_type": "code",
    "id": "mfSO4Q4gIEp-",
    "outputId": "9ebb6b98-c8f9-4316-a0c4-0331032aa0d0"
   },
   "outputs": [],
   "source": [
    "#@title parsing data\n",
    "cartpole_scale_df = DF[DF.bsuite_env == 'cartpole_scale'].copy()\n",
    "summary_analysis.plot_single_experiment(BSUITE_SCORE, 'cartpole_scale', SWEEP_VARS).draw();"
   ]
  },
  {
   "cell_type": "code",
   "execution_count": null,
   "metadata": {
    "cellView": "form",
    "colab": {
     "height": 0
    },
    "colab_type": "code",
    "id": "gdZXo0QwIEqB",
    "outputId": "249c1333-24aa-4dc1-b2e4-65c178b253ae"
   },
   "outputs": [],
   "source": [
    "#@title average regret over learning (lower is better)\n",
    "cartpole_scale_analysis.plot_average(cartpole_scale_df, SWEEP_VARS).draw();"
   ]
  },
  {
   "cell_type": "markdown",
   "metadata": {
    "colab_type": "text",
    "id": "rbV2q1snuqdy"
   },
   "source": [
    "**Parsing the plot above:**\n",
    "- Display the average regret after 10k episodes by reward_scale (lower is better)\n",
    "- Dashed line shows the performance of a random agents.\n",
    "- Look for reward_scale with performance significantly better than random agent."
   ]
  },
  {
   "cell_type": "code",
   "execution_count": null,
   "metadata": {
    "cellView": "form",
    "colab": {
     "height": 0
    },
    "colab_type": "code",
    "id": "eFZ2_koZIEqE",
    "outputId": "eeb6772b-781a-4ec3-e686-d6afc1c5ddf1"
   },
   "outputs": [],
   "source": [
    "#@title average regret through learning (lower is better)\n",
    "cartpole_scale_analysis.plot_learning(cartpole_scale_df, SWEEP_VARS).draw();"
   ]
  },
  {
   "cell_type": "markdown",
   "metadata": {
    "colab_type": "text",
    "id": "TOBg2c5Ku0Xq"
   },
   "source": [
    "**Parsing the plot above:**\n",
    "- Display the average regret after 10k episodes by reward_scale (lower is better)\n",
    "- Dashed line shows the performance of a random agent baseline.\n",
    "- Look for reward_scale with performance significantly better than baseline."
   ]
  },
  {
   "cell_type": "code",
   "execution_count": null,
   "metadata": {
    "cellView": "form",
    "colab": {
     "height": 0
    },
    "colab_type": "code",
    "id": "fyTcpBud4xlP",
    "outputId": "dad9bca7-df8b-48a4-aebd-3a1411b7f2cf"
   },
   "outputs": [],
   "source": [
    "#@title plot performance by seed (higher is better)\n",
    "cartpole_scale_analysis.plot_seeds(cartpole_scale_df, SWEEP_VARS).draw();"
   ]
  },
  {
   "cell_type": "markdown",
   "metadata": {
    "colab_type": "text",
    "id": "nawk_01lNifm"
   },
   "source": [
    "**Parsing the plot above:**\n",
    "\n",
    "- Here we can see the performance of each agent individually through time.\n",
    "- Higher scores are better, but individual runs may be noisy.\n",
    "- Use this plot to diagnose strange agent behaviour."
   ]
  },
  {
   "cell_type": "markdown",
   "metadata": {
    "colab_type": "text",
    "id": "tV8NnR1pJIkN"
   },
   "source": [
    "## Exploration\n",
    "\n",
    "Exploration is the problem of prioritizing useful information for learning."
   ]
  },
  {
   "cell_type": "markdown",
   "metadata": {
    "colab_type": "text",
    "id": "NMY_PV_PJWvy"
   },
   "source": [
    "### Deep sea\n",
    "\n"
   ]
  },
  {
   "cell_type": "markdown",
   "metadata": {
    "colab_type": "text",
    "id": "2G2dMRuhJWvz"
   },
   "source": [
    "<img src=\"https://storage.cloud.google.com/bsuite-colab-images/deep_sea.png\" alt=\"deep sea diagram\" height=\"300\"/>\n",
    "\n",
    "Scalable chain domains that test for\n",
    "[deep exploration](https://arxiv.org/abs/1703.07608).\n",
    "\n",
    "The environment is an N x N grid with falling blocks similar to catch. However\n",
    "the block always starts in the top left. In each timestep, the agent can move\n",
    "the block \"left\" or \"right\". At each timestep, there is a small cost for moving\n",
    "\"right\" and no cost for moving \"left\". However, the agent can receive a large\n",
    "reward for choosing \"right\" N-times in a row and reaching the bottom right. This\n",
    "is the single rewarding policy, all other policies receive zero or negative\n",
    "return making this a very difficult exploration problem.\n",
    "\n",
    "-   Run deep_sea sizes N=5,6,7,..,50 for at least 10k episodes.\n",
    "-   Score is the percentage of N for which average regret < 0.9 faster than 2^N.\n",
    "-   Must log `episode`, `total_return` for standard analysis."
   ]
  },
  {
   "cell_type": "code",
   "execution_count": null,
   "metadata": {
    "cellView": "form",
    "colab": {
     "height": 0
    },
    "colab_type": "code",
    "id": "BIAMOfnzJWv0",
    "outputId": "daaeb88f-596e-43f2-8afc-3aa796cda3d2"
   },
   "outputs": [],
   "source": [
    "#@title parsing data\n",
    "deep_sea_df = DF[DF.bsuite_env == 'deep_sea'].copy()\n",
    "deep_sea_plt = deep_sea_analysis.find_solution(deep_sea_df, SWEEP_VARS)\n",
    "summary_analysis.plot_single_experiment(BSUITE_SCORE, 'deep_sea', SWEEP_VARS).draw();"
   ]
  },
  {
   "cell_type": "code",
   "execution_count": null,
   "metadata": {
    "cellView": "form",
    "colab": {
     "height": 0
    },
    "colab_type": "code",
    "id": "0Scr29pYJWv3",
    "outputId": "4ac939d9-e849-4fe9-967c-883b577f3d66"
   },
   "outputs": [],
   "source": [
    "#@title average regret by size through learning (lower is better)\n",
    "deep_sea_analysis.plot_regret(deep_sea_df, SWEEP_VARS).draw();"
   ]
  },
  {
   "cell_type": "markdown",
   "metadata": {
    "colab_type": "text",
    "id": "JNt8bTBkJWv9"
   },
   "source": [
    "**Parsing the plot above:**\n",
    "- Learning curves of average regret through time (lower is better).\n",
    "- Dashed line shows the performance of suboptimal \"greedy\" algorithm\n",
    "- Look for largest size with performance significantly better than greedy agent.\n",
    "- Curves also show dynamics through time."
   ]
  },
  {
   "cell_type": "code",
   "execution_count": null,
   "metadata": {
    "cellView": "form",
    "colab": {
     "height": 0
    },
    "colab_type": "code",
    "id": "aGZnDiV_JWv-",
    "outputId": "8b371213-6acf-49e4-c9d3-3eeb39d37102"
   },
   "outputs": [],
   "source": [
    "#@title scaling of learning time with deep_sea size (lower + more blue is better)\n",
    "deep_sea_analysis.plot_scaling(deep_sea_plt, SWEEP_VARS).draw();"
   ]
  },
  {
   "cell_type": "markdown",
   "metadata": {
    "colab_type": "text",
    "id": "XRTs5_yxJWwC"
   },
   "source": [
    "**Parsing the plot above:**\n",
    "- Compute the number of episodes until the average regret < 0.9 for each problem size.\n",
    "- Red dots have *not* solved the problem, but have simply performed only that many episodes.\n",
    "- Dashed line shows curve 2^N, which is the scaling we expect for agents without deep exploration.\n",
    "- Want to see consistent curve of blue dots signficantly *below* the dashed line -> deep exploration."
   ]
  },
  {
   "cell_type": "code",
   "execution_count": null,
   "metadata": {
    "cellView": "form",
    "colab": {
     "height": 0
    },
    "colab_type": "code",
    "id": "L5SYqq4IJWwD",
    "outputId": "79d0c669-3d55-483a-d3ef-0191e06b0667"
   },
   "outputs": [],
   "source": [
    "#@title scaling of learning time with deep_sea size on log scale (lower + more blue is better)\n",
    "deep_sea_analysis.plot_scaling_log(deep_sea_plt, SWEEP_VARS).draw();"
   ]
  },
  {
   "cell_type": "markdown",
   "metadata": {
    "colab_type": "text",
    "id": "mCMKo6h0JWwG"
   },
   "source": [
    "**Parsing the plot above:**\n",
    "- Plots exactly the same data as above, but on a logarithmic scale.\n",
    "- If we see polynomial scaling -> this should result in a linear relationship between log(learning time) and log(size).\n",
    "- Want to see consistent line of blue dots significantly below the dashed line -> deep exploration."
   ]
  },
  {
   "cell_type": "code",
   "execution_count": null,
   "metadata": {
    "cellView": "form",
    "colab": {
     "height": 0
    },
    "colab_type": "code",
    "id": "DtoFkEw9IzjO",
    "outputId": "fb72f266-bae2-42ff-c247-b1076744970e"
   },
   "outputs": [],
   "source": [
    "#@title plot performance by seed (higher is better)\n",
    "deep_sea_analysis.plot_seeds(deep_sea_df, SWEEP_VARS).draw();"
   ]
  },
  {
   "cell_type": "markdown",
   "metadata": {
    "colab_type": "text",
    "id": "2kHPsxo-NkUP"
   },
   "source": [
    "**Parsing the plot above:**\n",
    "\n",
    "- Here we can see the performance of each agent individually through time.\n",
    "- Higher scores are better, but individual runs may be noisy.\n",
    "- Use this plot to diagnose strange agent behaviour."
   ]
  },
  {
   "cell_type": "markdown",
   "metadata": {
    "colab_type": "text",
    "id": "Fada-WLrKDdA"
   },
   "source": [
    "### Stochastic deep sea\n",
    "\n"
   ]
  },
  {
   "cell_type": "markdown",
   "metadata": {
    "colab_type": "text",
    "id": "80Ih3cX4KDdD"
   },
   "source": [
    "<img src=\"https://storage.cloud.google.com/bsuite-colab-images/deep_sea.png\" alt=\"deep sea stochastic diagram\" height=\"300\"/>\n",
    "\n",
    "Scalable chain domains that test for\n",
    "[deep exploration](https://arxiv.org/abs/1703.07608).\n",
    "\n",
    "The environment is an N x N grid with falling blocks similar to catch. However\n",
    "the block always starts in the top left. In each timestep, the agent can move\n",
    "the block \"left\" or \"right\". At each timestep, there is a small cost for moving\n",
    "\"right\" and no cost for moving \"left\". However, the agent can receive a large\n",
    "reward for choosing \"right\" N-times in a row and reaching the bottom right. This\n",
    "is the single rewarding policy, all other policies receive zero or negative\n",
    "return making this a very difficult exploration problem.\n",
    "\n",
    "The stochastic version of this domain only transitions to the right with\n",
    "probability (1 - 1/N) and adds N(0,1) noise to the 'end' states of the chain.\n",
    "\n",
    "-   Run deep_sea sizes N=5,6,7,..,50 for at least 10k episodes.\n",
    "-   Score is the percentage of N for which average regret < 0.9 faster than 2^N.\n",
    "-   Must log `episode`, `total_return` for standard analysis."
   ]
  },
  {
   "cell_type": "code",
   "execution_count": null,
   "metadata": {
    "cellView": "form",
    "colab": {
     "height": 0
    },
    "colab_type": "code",
    "id": "1qJ96InzKDdE",
    "outputId": "886a00c1-45e0-4d04-b302-5cf9899ba76b"
   },
   "outputs": [],
   "source": [
    "#@title parsing data\n",
    "deep_sea_stochastic_df = DF[DF.bsuite_env == 'deep_sea_stochastic'].copy()\n",
    "deep_sea_stochastic_plt = deep_sea_stochastic_analysis.find_solution(deep_sea_stochastic_df, SWEEP_VARS)\n",
    "summary_analysis.plot_single_experiment(BSUITE_SCORE, 'deep_sea_stochastic', SWEEP_VARS).draw();"
   ]
  },
  {
   "cell_type": "code",
   "execution_count": null,
   "metadata": {
    "cellView": "form",
    "colab": {
     "height": 0
    },
    "colab_type": "code",
    "id": "f1vKIKoMKDdH",
    "outputId": "79966328-68e7-47b9-b52e-19b1b9c66de9"
   },
   "outputs": [],
   "source": [
    "#@title average regret by size through learning (lower is better)\n",
    "deep_sea_stochastic_analysis.plot_regret(deep_sea_stochastic_df, SWEEP_VARS).draw();"
   ]
  },
  {
   "cell_type": "markdown",
   "metadata": {
    "colab_type": "text",
    "id": "Sr0evA1DKDdN"
   },
   "source": [
    "**Parsing the plot above:**\n",
    "- Learning curves of average regret through time (lower is better).\n",
    "- Dashed line shows the performance of suboptimal \"greedy\" algorithm\n",
    "- Look for largest size with performance significantly better than greedy agent.\n",
    "- Curves also show dynamics through time."
   ]
  },
  {
   "cell_type": "code",
   "execution_count": null,
   "metadata": {
    "cellView": "form",
    "colab": {
     "height": 0
    },
    "colab_type": "code",
    "id": "T1oUdaXnKDdO",
    "outputId": "72363413-a3ae-492a-f48c-fce0b75c2a80"
   },
   "outputs": [],
   "source": [
    "#@title scaling of learning time with deep_sea_stochastic size (lower + more blue is better)\n",
    "deep_sea_stochastic_analysis.plot_scaling(deep_sea_stochastic_plt, SWEEP_VARS).draw();"
   ]
  },
  {
   "cell_type": "markdown",
   "metadata": {
    "colab_type": "text",
    "id": "aIcze9ScKDdR"
   },
   "source": [
    "**Parsing the plot above:**\n",
    "- Compute the number of episodes until the average regret < 0.9 for each problem size.\n",
    "- Red dots have *not* solved the problem, but have simply performed only that many episodes.\n",
    "- Dashed line shows curve 2^N, which is the scaling we expect for agents without deep exploration.\n",
    "- Want to see consistent curve of blue dots signficantly *below* the dashed line -> deep exploration."
   ]
  },
  {
   "cell_type": "code",
   "execution_count": null,
   "metadata": {
    "cellView": "form",
    "colab": {
     "height": 0
    },
    "colab_type": "code",
    "id": "syBJ_aGmKDdS",
    "outputId": "f84295f1-6e78-4c60-a20c-468b0f6d0a0c"
   },
   "outputs": [],
   "source": [
    "#@title scaling of learning time with deep_sea size on log scale (lower + more blue is better)\n",
    "deep_sea_stochastic_analysis.plot_scaling_log(deep_sea_stochastic_plt, SWEEP_VARS).draw();"
   ]
  },
  {
   "cell_type": "markdown",
   "metadata": {
    "colab_type": "text",
    "id": "rQF9BDzoKDdY"
   },
   "source": [
    "**Parsing the plot above:**\n",
    "- Plots exactly the same data as above, but on a logarithmic scale.\n",
    "- If we see polynomial scaling -> this should result in a linear relationship between log(learning time) and log(size).\n",
    "- Want to see consistent line of blue dots significantly below the dashed line -> deep exploration."
   ]
  },
  {
   "cell_type": "code",
   "execution_count": null,
   "metadata": {
    "cellView": "form",
    "colab": {
     "height": 0
    },
    "colab_type": "code",
    "id": "s_bWpZ5UJrwJ",
    "outputId": "5fcca219-914c-43a3-caeb-872b0721d40a"
   },
   "outputs": [],
   "source": [
    "#@title plot performance by seed (higher is better)\n",
    "deep_sea_stochastic_analysis.plot_seeds(deep_sea_stochastic_df, SWEEP_VARS).draw();"
   ]
  },
  {
   "cell_type": "markdown",
   "metadata": {
    "colab_type": "text",
    "id": "DhGbNwJfNl1m"
   },
   "source": [
    "**Parsing the plot above:**\n",
    "\n",
    "- Here we can see the performance of each agent individually through time.\n",
    "- Higher scores are better, but individual runs may be noisy.\n",
    "- Use this plot to diagnose strange agent behaviour."
   ]
  },
  {
   "cell_type": "markdown",
   "metadata": {
    "colab_type": "text",
    "id": "g_mroLiVK1RE"
   },
   "source": [
    "### Cartpole swingup\n"
   ]
  },
  {
   "cell_type": "markdown",
   "metadata": {
    "colab_type": "text",
    "id": "S2KWDe9dK1RH"
   },
   "source": [
    "\n",
    "<img src=\"https://storage.cloud.google.com/bsuite-colab-images/cartpole.png\" alt=\"cartpole diagram\" height=\"300\"/>\n",
    "\n",
    "A difficult cartpole swingup task with sparse rewards and a cost for moving.\n",
    "This domain is somewhat similar to \"deep sea\" but cannot be solved easily by tabular reinforcement learning algorithms.\n",
    "\n",
    "- The observation is `[x, cos_theta, sin_theta, x_dot, theta_dot, x_central]`\n",
    "- The dynamics are given by the classic cartpole from dm [control suite](https://github.com/deepmind/dm_control/blob/master/all_domains.png)\n",
    "- Each episode begins with the pole hanging downwards and ends after 1000 timesteps.\n",
    "- There is a small cost of -0.1 for any movement of the pole.\n",
    "- There is a reward of +1 only if:\n",
    "  - x_dot, theta_dot < 1\n",
    "  - pole_height > 1 - `difficulty_scale`\n",
    "  - x < 1 - `difficulty_scale`\n",
    "\n",
    "The parameter `difficulty_scale` acts as a scaling for the depth of exploration, similar to the \"size\" in deep sea.\n",
    "To run this experiment:\n",
    "\n",
    "- Run the agent on difficulty_scale = 0, 0.05, 0.1, .. , 0.95 for 1k episodes\n",
    "- Score is proportion of runs that achieve an average_return > 0 at any point.\n",
    "- Must log `episode`, `total_return` for standard analysis\n"
   ]
  },
  {
   "cell_type": "code",
   "execution_count": null,
   "metadata": {
    "cellView": "form",
    "colab": {
     "height": 0
    },
    "colab_type": "code",
    "id": "odVWa8S5K1RJ",
    "outputId": "00bbf937-8a78-4947-c91f-7765b70f38b9"
   },
   "outputs": [],
   "source": [
    "#@title parsing data\n",
    "cartpole_swingup_df = DF[DF.bsuite_env == 'cartpole_swingup'].copy()\n",
    "summary_analysis.plot_single_experiment(BSUITE_SCORE, 'cartpole_swingup', SWEEP_VARS).draw();"
   ]
  },
  {
   "cell_type": "code",
   "execution_count": null,
   "metadata": {
    "cellView": "form",
    "colab": {
     "height": 0
    },
    "colab_type": "code",
    "id": "Gc4VSuUsK1RO",
    "outputId": "15a7c79f-207e-4648-c684-02dd822f2ab4"
   },
   "outputs": [],
   "source": [
    "#@title scaling with difficulty scale (higher + more blue is better)\n",
    "cartpole_swingup_analysis.plot_scale(cartpole_swingup_df, SWEEP_VARS).draw();"
   ]
  },
  {
   "cell_type": "markdown",
   "metadata": {
    "colab_type": "text",
    "id": "X4HWtEcIK1RT"
   },
   "source": [
    "**Parsing the plot above:**\n",
    "- For each height threshold, look at the best observed return.\n",
    "- If the observed return is greater than 500 ==> the pole was swung upright and balanced for at least 5 seconds.\n",
    "- Look for higher scores and more blue."
   ]
  },
  {
   "cell_type": "code",
   "execution_count": null,
   "metadata": {
    "cellView": "form",
    "colab": {
     "height": 0
    },
    "colab_type": "code",
    "id": "r5HeI4rrK1RV",
    "outputId": "fe77c64d-5b4a-49ea-ae5b-c6a72332fbef"
   },
   "outputs": [],
   "source": [
    "#@title average regret through learning (lower is better)\n",
    "cartpole_swingup_analysis.plot_learning(cartpole_swingup_df, SWEEP_VARS).draw();"
   ]
  },
  {
   "cell_type": "markdown",
   "metadata": {
    "colab_type": "text",
    "id": "Uta3sgNOK1RY"
   },
   "source": [
    "**Parsing the plot above:**\n",
    "- Learning curves of average return through time (higher is better).\n",
    "- Dashed line shows the performance of an agent that does not move = 0.\n",
    "- Look for largest difficulty_scale with performance significantly better than staying still."
   ]
  },
  {
   "cell_type": "code",
   "execution_count": null,
   "metadata": {
    "cellView": "form",
    "colab": {
     "height": 0
    },
    "colab_type": "code",
    "id": "M3tiBC9442n1",
    "outputId": "100fa494-7a59-4d9f-b3a3-5e7e5d072731"
   },
   "outputs": [],
   "source": [
    "#@title plot performance by seed (higher is better)\n",
    "cartpole_swingup_analysis.plot_seeds(cartpole_swingup_df, SWEEP_VARS).draw();"
   ]
  },
  {
   "cell_type": "markdown",
   "metadata": {
    "colab_type": "text",
    "id": "FAlAYE7oNms2"
   },
   "source": [
    "**Parsing the plot above:**\n",
    "\n",
    "- Here we can see the performance of each agent individually through time.\n",
    "- Higher scores are better, but individual runs may be noisy.\n",
    "- Use this plot to diagnose strange agent behaviour."
   ]
  },
  {
   "cell_type": "markdown",
   "metadata": {
    "colab_type": "text",
    "id": "Jpj7JjESSs_J"
   },
   "source": [
    "## Credit assignment\n",
    "\n",
    "This is a collection of domains for credit assignment."
   ]
  },
  {
   "cell_type": "markdown",
   "metadata": {
    "colab_type": "text",
    "id": "k4S-Q5B5Sysn"
   },
   "source": [
    "### Umbrella length"
   ]
  },
  {
   "cell_type": "markdown",
   "metadata": {
    "colab_type": "text",
    "id": "swsqn6tXSysr"
   },
   "source": [
    "<img src=\"https://storage.cloud.google.com/bsuite-colab-images/umbrella.png\" alt=\"umbrella diagram\" height=\"300\"/>\n",
    "\n",
    "A stylized problem designed to highlight problems to do with temporal credit assignment and scaling with time horizon.\n",
    "\n",
    "- The state observation is [need_umbrella, have_umbrella, time_to_go,] + n \"distractor\" features that are iid Bernoulli.\n",
    "- At the start of each episode the agent observes if it will need an umbrella.\n",
    "- It then has the chance to pick up an umbrella only in the first timestep.\n",
    "- At the end of the episode the agent receives a reward of +1 if it made the correct choice of umbrella, but -1 if it made the incorrect choice.\n",
    "- During chain_length intermediate steps rewards are random +1 or -1.\n",
    "\n",
    "The experiment setup:\n",
    "- Run umbrella_chain with n_distractor=20 and sweep chain_length=1..100 logarithmically spaced for 10k episodes.\n",
    "- Score is percent of tasks with average reward per episode > 0.5.\n",
    "- Must log `episode`, `total_return`, `total_regret` for standard analysis."
   ]
  },
  {
   "cell_type": "code",
   "execution_count": null,
   "metadata": {
    "cellView": "form",
    "colab": {
     "height": 0
    },
    "colab_type": "code",
    "id": "H22CVW-gSyss",
    "outputId": "73c5d6a0-461a-4bc9-815f-9ba6e095e780"
   },
   "outputs": [],
   "source": [
    "#@title parsing data\n",
    "umbrella_length_df = DF[DF.bsuite_env == 'umbrella_length'].copy()\n",
    "summary_analysis.plot_single_experiment(BSUITE_SCORE, 'umbrella_length', SWEEP_VARS).draw();"
   ]
  },
  {
   "cell_type": "code",
   "execution_count": null,
   "metadata": {
    "cellView": "form",
    "colab": {
     "height": 0
    },
    "colab_type": "code",
    "id": "YW9UOQTRSysw",
    "outputId": "66df9a5d-203f-47a3-8c99-9803527d8e74"
   },
   "outputs": [],
   "source": [
    "#@title average regret after 10k episodes (lower is better)\n",
    "umbrella_length_analysis.plot_scale(umbrella_length_df, SWEEP_VARS).draw();"
   ]
  },
  {
   "cell_type": "markdown",
   "metadata": {
    "colab_type": "text",
    "id": "besZfRI7Sys1"
   },
   "source": [
    "**Parsing the plot above:**\n",
    "- Compute the average regret after 10k episodes for each chain_length problem scale.\n",
    "- Red dots have *not* solved the problem, blue dots made significant progress (average regret < 0.5)\n",
    "- Dashed line shows regret of a random agent = 1.0.\n",
    "- We want to see lots of blue dots with low regret for large chain_length."
   ]
  },
  {
   "cell_type": "code",
   "execution_count": null,
   "metadata": {
    "cellView": "form",
    "colab": {
     "height": 0
    },
    "colab_type": "code",
    "id": "3STrnTWrSys2",
    "outputId": "a08898f0-03ca-45b8-96bc-4ca77520286f"
   },
   "outputs": [],
   "source": [
    "#@title average regret through learning (lower is better)\n",
    "umbrella_length_analysis.plot_learning(umbrella_length_df, SWEEP_VARS).draw();"
   ]
  },
  {
   "cell_type": "markdown",
   "metadata": {
    "colab_type": "text",
    "id": "InmXA_iKSys5"
   },
   "source": [
    "**Parsing the plot above:**\n",
    "- Learning curves of average regret through time (lower is better).\n",
    "- Dashed line shows the performance of a random agents (regret = 1.0)\n",
    "- Look for largest chain_length with performance significantly better than random agent.\n",
    "- Curves also show dynamics through time.\n",
    "- Smoothing is performed with rolling mean over 10% of data with confidence bar at 95% Gaussian standard error."
   ]
  },
  {
   "cell_type": "code",
   "execution_count": null,
   "metadata": {
    "cellView": "form",
    "colab": {
     "height": 0
    },
    "colab_type": "code",
    "id": "O1pSwPi-430_",
    "outputId": "6afeb764-79fc-44c3-b99a-e6acbc3aed0b"
   },
   "outputs": [],
   "source": [
    "#@title plot performance by seed (higher is better)\n",
    "umbrella_length_analysis.plot_seeds(umbrella_length_df, SWEEP_VARS).draw();"
   ]
  },
  {
   "cell_type": "markdown",
   "metadata": {
    "colab_type": "text",
    "id": "u8GX_ZBxNnXe"
   },
   "source": [
    "**Parsing the plot above:**\n",
    "\n",
    "- Here we can see the performance of each agent individually through time.\n",
    "- Higher scores are better, but individual runs may be noisy.\n",
    "- Use this plot to diagnose strange agent behaviour."
   ]
  },
  {
   "cell_type": "markdown",
   "metadata": {
    "colab_type": "text",
    "id": "kDKk7PhyTEif"
   },
   "source": [
    "### Umbrella distract"
   ]
  },
  {
   "cell_type": "markdown",
   "metadata": {
    "colab_type": "text",
    "id": "2SqqFSKaTEii"
   },
   "source": [
    "<img src=\"https://storage.cloud.google.com/bsuite-colab-images/umbrella.png\" alt=\"umbrella diagram\" height=\"300\"/>\n",
    "\n",
    "\n",
    "A stylized problem designed to highlight problems to do with temporal credit assignment and scaling with time horizon.\n",
    "\n",
    "- The state observation is [need_umbrella, have_umbrella, time_to_go,] + n \"distractor\" features that are iid Bernoulli.\n",
    "- At the start of each episode the agent observes if it will need an umbrella.\n",
    "- It then has the chance to pick up an umbrella only in the first timestep.\n",
    "- At the end of the episode the agent receives a reward of +1 if it made the correct choice of umbrella, but -1 if it made the incorrect choice.\n",
    "- During chain_length intermediate steps rewards are random +1 or -1.\n",
    "\n",
    "The experiment setup:\n",
    "- Run umbrella_chain with n_distractor=20 and sweep chain_length=1..100 logarithmically spaced for 10k episodes.\n",
    "- Score is percent of tasks with average reward per episode > 0.5.\n",
    "- Must log `episode`, `total_return`, `total_regret` for standard analysis."
   ]
  },
  {
   "cell_type": "code",
   "execution_count": null,
   "metadata": {
    "cellView": "form",
    "colab": {
     "height": 0
    },
    "colab_type": "code",
    "id": "fWP2zwM8TEij",
    "outputId": "b6ae3444-e126-40f6-f705-399bb8525caa"
   },
   "outputs": [],
   "source": [
    "#@title parsing data\n",
    "umbrella_distract_df = DF[DF.bsuite_env == 'umbrella_distract'].copy()\n",
    "summary_analysis.plot_single_experiment(BSUITE_SCORE, 'umbrella_distract', SWEEP_VARS).draw();"
   ]
  },
  {
   "cell_type": "code",
   "execution_count": null,
   "metadata": {
    "cellView": "form",
    "colab": {
     "height": 0
    },
    "colab_type": "code",
    "id": "IiVxaDffTEim",
    "outputId": "bf6b4476-3eee-4734-8d72-f96ba8b4f5d5"
   },
   "outputs": [],
   "source": [
    "#@title average regret after 10k episodes (lower is better)\n",
    "umbrella_distract_analysis.plot_scale(umbrella_distract_df, SWEEP_VARS).draw();"
   ]
  },
  {
   "cell_type": "markdown",
   "metadata": {
    "colab_type": "text",
    "id": "_xYIXBJwTEiq"
   },
   "source": [
    "**Parsing the plot above:**\n",
    "- Compute the average regret after 10k episodes for each chain_length problem scale.\n",
    "- Red dots have *not* solved the problem, blue dots made significant progress (average regret < 0.5)\n",
    "- Dashed line shows regret of a random agent = 1.0.\n",
    "- We want to see lots of blue dots with low regret for large chain_length."
   ]
  },
  {
   "cell_type": "code",
   "execution_count": null,
   "metadata": {
    "cellView": "form",
    "colab": {
     "height": 0
    },
    "colab_type": "code",
    "id": "XZSfnKjcTEir",
    "outputId": "6e68875c-f052-4ec4-d5cf-8d49e853edf0"
   },
   "outputs": [],
   "source": [
    "#@title average regret through learning (lower is better)\n",
    "umbrella_distract_analysis.plot_learning(umbrella_distract_df, SWEEP_VARS).draw();"
   ]
  },
  {
   "cell_type": "markdown",
   "metadata": {
    "colab_type": "text",
    "id": "05vEFGn7TEiv"
   },
   "source": [
    "**Parsing the plot above:**\n",
    "- Learning curves of average regret through time (lower is better).\n",
    "- Dashed line shows the performance of a random agents (regret = 1.0)\n",
    "- Look for largest chain_length with performance significantly better than random agent.\n",
    "- Curves also show dynamics through time.\n",
    "- Smoothing is performed with rolling mean over 10% of data with confidence bar at 95% Gaussian standard error."
   ]
  },
  {
   "cell_type": "code",
   "execution_count": null,
   "metadata": {
    "cellView": "form",
    "colab": {
     "height": 0
    },
    "colab_type": "code",
    "id": "IFvHvi5H47yH",
    "outputId": "f94abbc1-4330-462f-b33d-009ae3c0430f"
   },
   "outputs": [],
   "source": [
    "#@title plot performance by seed (higher is better)\n",
    "umbrella_distract_analysis.plot_seeds(umbrella_distract_df, SWEEP_VARS).draw();"
   ]
  },
  {
   "cell_type": "markdown",
   "metadata": {
    "colab_type": "text",
    "id": "TCnnE435NoHv"
   },
   "source": [
    "**Parsing the plot above:**\n",
    "\n",
    "- Here we can see the performance of each agent individually through time.\n",
    "- Higher scores are better, but individual runs may be noisy.\n",
    "- Use this plot to diagnose strange agent behaviour."
   ]
  },
  {
   "cell_type": "markdown",
   "metadata": {
    "colab_type": "text",
    "id": "5_NxfUeUUTCz"
   },
   "source": [
    "### Discounting chain"
   ]
  },
  {
   "cell_type": "markdown",
   "metadata": {
    "colab_type": "text",
    "id": "O30h3qfmUTC3"
   },
   "source": [
    "<img src=\"https://storage.cloud.google.com/bsuite-colab-images/discounting_chain.png\" alt=\"discount diagram\" height=\"300\"/>\n",
    "\n",
    "A stylized problem designed to highlight an agent's ability to correctly maximize cumulative rewards without discounting bias.\n",
    "- The only decision that actually matters is the agent's *first* of the episode, after which the agent is locked into a \"chain\" irrespective of actions.\n",
    "- Each chain gives a non-zero reward only at one step of the length-100 episode: [1, 3, 10, 30, 100] steps.\n",
    "- Each chain gives a reward of +1, except for the optimal_horizon, which gives a reward of +1.1\n",
    "- Many agents with discounting will struggle to maximize cumulative returns.\n",
    "\n",
    "The experiment setup:\n",
    "- Run each optimal_horizon [1, 3, 10, 30, 100], each with 5 seeds for 1k episodes.\n",
    "- Score is average regret * 10.\n",
    "- Must log `episode`, `total_return` for standard analysis"
   ]
  },
  {
   "cell_type": "code",
   "execution_count": null,
   "metadata": {
    "cellView": "form",
    "colab": {
     "height": 0
    },
    "colab_type": "code",
    "id": "GpSud5k1UTC4",
    "outputId": "c356d247-7b46-4d47-d89f-886df2139bb0"
   },
   "outputs": [],
   "source": [
    "#@title parsing data\n",
    "discounting_chain_df = DF[DF.bsuite_env == 'discounting_chain'].copy()\n",
    "summary_analysis.plot_single_experiment(BSUITE_SCORE, 'discounting_chain', SWEEP_VARS).draw();"
   ]
  },
  {
   "cell_type": "code",
   "execution_count": null,
   "metadata": {
    "cellView": "both",
    "colab": {
     "height": 0
    },
    "colab_type": "code",
    "id": "l-Qyf4CqUTC8",
    "outputId": "5035f011-5a61-44a6-9fb5-1742015ab449"
   },
   "outputs": [],
   "source": [
    "#@title average regret after 1k episodes (lower is better)\n",
    "discounting_chain_analysis.plot_average(discounting_chain_df, SWEEP_VARS).draw();"
   ]
  },
  {
   "cell_type": "markdown",
   "metadata": {
    "colab_type": "text",
    "id": "YaBqIHXQUTDD"
   },
   "source": [
    "**Parsing the plot above:**\n",
    "- Display the average regret after 10k episodes by optimal_horizon (lower is better)\n",
    "- Dashed line shows the performance of a random agents (regret = 0.8)\n",
    "- Look for largest horizon with performance significantly better than random agent."
   ]
  },
  {
   "cell_type": "code",
   "execution_count": null,
   "metadata": {
    "cellView": "form",
    "colab": {
     "height": 0
    },
    "colab_type": "code",
    "id": "6JQbVV9dUTDE",
    "outputId": "d804d4cf-5b57-4757-a4c4-b78cc50dcbbb"
   },
   "outputs": [],
   "source": [
    "#@title average regret through learning (lower is better)\n",
    "discounting_chain_analysis.plot_learning(discounting_chain_df, SWEEP_VARS).draw();"
   ]
  },
  {
   "cell_type": "markdown",
   "metadata": {
    "colab_type": "text",
    "id": "QLri9ZsjUTDJ"
   },
   "source": [
    "**Parsing the plot above:**\n",
    "- Learning curves of average regret through time (lower is better).\n",
    "- Dashed line shows the performance of a random agents (regret = 0.8)\n",
    "- Look for largest horizon with performance significantly better than random agent.\n",
    "- Curves also show dynamics through time.\n",
    "- Smoothing is performed with rolling mean over 10% of data with confidence bar at 95% Gaussian standard error."
   ]
  },
  {
   "cell_type": "code",
   "execution_count": null,
   "metadata": {
    "cellView": "form",
    "colab": {
     "height": 0
    },
    "colab_type": "code",
    "id": "11uMqmE9484R",
    "outputId": "517a5376-6fa9-406f-aacb-ef59cf1c44a7"
   },
   "outputs": [],
   "source": [
    "#@title plot performance by seed (higher is better)\n",
    "discounting_chain_analysis.plot_seeds(discounting_chain_df, SWEEP_VARS).draw();"
   ]
  },
  {
   "cell_type": "markdown",
   "metadata": {
    "colab_type": "text",
    "id": "GEhg1QutNpbb"
   },
   "source": [
    "**Parsing the plot above:**\n",
    "\n",
    "- Here we can see the performance of each agent individually through time.\n",
    "- Higher scores are better, but individual runs may be noisy.\n",
    "- Use this plot to diagnose strange agent behaviour."
   ]
  },
  {
   "cell_type": "markdown",
   "metadata": {
    "colab_type": "text",
    "id": "3tACBZKzTfNS"
   },
   "source": [
    "## Memory\n",
    "\n",
    "A collection of experiments designed to test memory capabilities."
   ]
  },
  {
   "cell_type": "markdown",
   "metadata": {
    "colab_type": "text",
    "id": "F1i-6W76Tiba"
   },
   "source": [
    "### Memory length"
   ]
  },
  {
   "cell_type": "markdown",
   "metadata": {
    "colab_type": "text",
    "id": "Ajm0qATFTibe"
   },
   "source": [
    "<img src=\"https://storage.cloud.google.com/bsuite-colab-images/memory_chain.png\" alt=\"memory diagram\" height=\"300\"/>\n",
    "\n",
    "\n",
    "A stylized [T-maze](https://en.wikipedia.org/wiki/T-maze) problem designed to highlight an agent's ability to remember important information and use it to make good decisions.\n",
    "- At the beginning of the episode the agent is provided a context of +1 or -1.\n",
    "- At all future timesteps the context is equal to zero and a countdown until the end of the episode.\n",
    "- At the end of the episode the agent must select the correct action corresponding to the context to reward +1 or -1.\n",
    "\n",
    "The experiment setup:\n",
    "- Run memory sizes 1..100 logarithmically spaced.\n",
    "- Score is proportion of memory sizes with average regret < 0.5.\n",
    "- Must log `episode`, `total_return` for standard analysis"
   ]
  },
  {
   "cell_type": "code",
   "execution_count": null,
   "metadata": {
    "cellView": "form",
    "colab": {
     "height": 0
    },
    "colab_type": "code",
    "id": "8cMpQ1AHTibf",
    "outputId": "801df9c6-ca48-49e9-f10f-95a1d48a87a2"
   },
   "outputs": [],
   "source": [
    "#@title parsing data\n",
    "memory_len_df = DF[DF.bsuite_env == 'memory_len'].copy()\n",
    "summary_analysis.plot_single_experiment(BSUITE_SCORE, 'memory_len', SWEEP_VARS).draw();"
   ]
  },
  {
   "cell_type": "code",
   "execution_count": null,
   "metadata": {
    "cellView": "form",
    "colab": {
     "height": 0
    },
    "colab_type": "code",
    "id": "RH8ko4YFTibi",
    "outputId": "31e81aa5-44d3-46a4-ac56-cdb368e66a52"
   },
   "outputs": [],
   "source": [
    "#@title memory scaling (lower + more blue is better)\n",
    "memory_len_analysis.plot_scale(memory_len_df, SWEEP_VARS).draw();"
   ]
  },
  {
   "cell_type": "markdown",
   "metadata": {
    "colab_type": "text",
    "id": "aqTarGL-Tibm"
   },
   "source": [
    "**Parsing the plot above:**\n",
    "- Compute the average regret after 10k episodes for each memory_length problem scale.\n",
    "- Red dots have *not* solved the problem, blue dots made significant progress (average regret < 0.5)\n",
    "- Dashed line shows regret of a random agent = 1.0.\n",
    "- We want to see lots of blue dots with low regret for large memory_length."
   ]
  },
  {
   "cell_type": "code",
   "execution_count": null,
   "metadata": {
    "cellView": "form",
    "colab": {
     "height": 0
    },
    "colab_type": "code",
    "id": "Gvee-SBNTibn",
    "outputId": "040f8255-0920-4529-9117-4c5795cf95cf"
   },
   "outputs": [],
   "source": [
    "#@title average regret through learning (lower is better)\n",
    "memory_len_analysis.plot_learning(memory_len_df, SWEEP_VARS).draw();"
   ]
  },
  {
   "cell_type": "markdown",
   "metadata": {
    "colab_type": "text",
    "id": "r3f55zyLTibs"
   },
   "source": [
    "**Parsing the plot above:**\n",
    "- Learning curves of average regret through time (lower is better).\n",
    "- Dashed line shows the performance of a random agents (regret = 1.0)\n",
    "- Look for largest memory_length with performance significantly better than random agent.\n",
    "- Curves also show dynamics through time.\n",
    "- Smoothing is performed with rolling mean over 10% of data with confidence bar at 95% Gaussian standard error."
   ]
  },
  {
   "cell_type": "code",
   "execution_count": null,
   "metadata": {
    "cellView": "form",
    "colab": {
     "height": 0
    },
    "colab_type": "code",
    "id": "FTxbDm_G8-O9",
    "outputId": "4e6c6c17-2d8d-4c05-9af6-673116ebce11"
   },
   "outputs": [],
   "source": [
    "#@title plot performance by seed (higher is better)\n",
    "memory_len_analysis.plot_seeds(memory_len_df, SWEEP_VARS).draw();"
   ]
  },
  {
   "cell_type": "markdown",
   "metadata": {
    "colab_type": "text",
    "id": "FPginvBeNqju"
   },
   "source": [
    "**Parsing the plot above:**\n",
    "\n",
    "- Here we can see the performance of each agent individually through time.\n",
    "- Higher scores are better, but individual runs may be noisy.\n",
    "- Use this plot to diagnose strange agent behaviour."
   ]
  },
  {
   "cell_type": "markdown",
   "metadata": {
    "colab_type": "text",
    "id": "eWua8ocyT5eE"
   },
   "source": [
    "### Memory size)"
   ]
  },
  {
   "cell_type": "markdown",
   "metadata": {
    "colab_type": "text",
    "id": "n5EmxcwJT5eK"
   },
   "source": [
    "<img src=\"https://storage.cloud.google.com/bsuite-colab-images/memory_chain.png\" alt=\"memory diagram\" height=\"300\"/>\n",
    "\n",
    "A stylized [T-maze](https://en.wikipedia.org/wiki/T-maze) problem designed to highlight an agent's ability to remember important information and use it to make good decisions.\n",
    "- At the beginning of an episode the agent is provided an N bit context vector.\n",
    "- After a couple of steps the agent is provided a query as an integer number between `0` and `num_bits-1` and must select the correct action corresponding to `context[query]`.\n",
    "\n",
    "The experiment setup:\n",
    "- Run memory sizes 1..100 logarithmically spaced.\n",
    "- Score is proportion of memory sizes with average regret < 0.5.\n",
    "- Must log `episode`, `total_return` for standard analysis"
   ]
  },
  {
   "cell_type": "code",
   "execution_count": null,
   "metadata": {
    "cellView": "form",
    "colab": {
     "height": 0
    },
    "colab_type": "code",
    "id": "AVTgmQufT5eM",
    "outputId": "79022f91-e6d9-489d-f08e-2cab0996cff0"
   },
   "outputs": [],
   "source": [
    "#@title parsing data\n",
    "memory_size_df = DF[DF.bsuite_env == 'memory_size'].copy()\n",
    "summary_analysis.plot_single_experiment(BSUITE_SCORE, 'memory_size', SWEEP_VARS).draw();"
   ]
  },
  {
   "cell_type": "code",
   "execution_count": null,
   "metadata": {
    "cellView": "form",
    "colab": {
     "height": 0
    },
    "colab_type": "code",
    "id": "6-ebdsGrT5eP",
    "outputId": "fe88b0e0-0e6b-4a09-f4f1-01f1f73b6e54"
   },
   "outputs": [],
   "source": [
    "#@title memory scaling (lower + more blue is better)\n",
    "memory_size_analysis.plot_scale(memory_size_df, SWEEP_VARS).draw();"
   ]
  },
  {
   "cell_type": "markdown",
   "metadata": {
    "colab_type": "text",
    "id": "la_nvowET5eU"
   },
   "source": [
    "**Parsing the plot above:**\n",
    "- Compute the average regret after 10k episodes for each memory_sizegth problem scale.\n",
    "- Red dots have *not* solved the problem, blue dots made significant progress (average regret < 0.5)\n",
    "- Dashed line shows regret of a random agent = 1.0.\n",
    "- We want to see lots of blue dots with low regret for large memory_sizegth."
   ]
  },
  {
   "cell_type": "code",
   "execution_count": null,
   "metadata": {
    "cellView": "form",
    "colab": {
     "height": 0
    },
    "colab_type": "code",
    "id": "BbdlXbUGT5eV",
    "outputId": "57e5ee2d-db67-4f4b-e3f7-f7db3fa28bed"
   },
   "outputs": [],
   "source": [
    "#@title average regret through learning (lower is better)\n",
    "memory_size_analysis.plot_learning(memory_size_df, SWEEP_VARS).draw();"
   ]
  },
  {
   "cell_type": "markdown",
   "metadata": {
    "colab_type": "text",
    "id": "FIIFRKiBT5ea"
   },
   "source": [
    "**Parsing the plot above:**\n",
    "- Learning curves of average regret through time (lower is better).\n",
    "- Dashed line shows the performance of a random agents (regret = 1.0)\n",
    "- Look for largest memory_length with performance significantly better than random agent.\n",
    "- Curves also show dynamics through time.\n",
    "- Smoothing is performed with rolling mean over 10% of data with confidence bar at 95% Gaussian standard error."
   ]
  },
  {
   "cell_type": "code",
   "execution_count": null,
   "metadata": {
    "cellView": "form",
    "colab": {
     "height": 0
    },
    "colab_type": "code",
    "id": "-1qX20c_4_JW",
    "outputId": "71819936-e9cf-4af9-846a-e518442ae795"
   },
   "outputs": [],
   "source": [
    "#@title plot performance by seed (higher is better)\n",
    "memory_size_analysis.plot_seeds(memory_size_df, SWEEP_VARS).draw();"
   ]
  },
  {
   "cell_type": "markdown",
   "metadata": {
    "colab_type": "text",
    "id": "fNxUm-A2Nx42"
   },
   "source": [
    "**Parsing the plot above:**\n",
    "\n",
    "- Here we can see the performance of each agent individually through time.\n",
    "- Higher scores are better, but individual runs may be noisy.\n",
    "- Use this plot to diagnose strange agent behaviour."
   ]
  },
  {
   "cell_type": "markdown",
   "metadata": {
    "colab_type": "text",
    "id": "KWdGnbSPIbmd"
   },
   "source": [
    "## Exporting as PDF\n",
    "\n",
    "- Run all colab cells above in `Colaboratory`\n",
    "- Run the cell below to download a compressed `images.zip`\n",
    "- Copy `images/` in `bsuite/reports/images`\n",
    "- Run `bsuite/reports/bsuite_report.tex` to generate a summary pdf report"
   ]
  },
  {
   "cell_type": "code",
   "execution_count": null,
   "metadata": {
    "colab": {},
    "colab_type": "code",
    "id": "VwAKOdzHfmAr"
   },
   "outputs": [],
   "source": [
    "import os\n",
    "from google.colab import files\n",
    "\n",
    "# Save images required for the reports in an `images/` folder.\n",
    "if not os.path.exists('images'):\n",
    "  os.makedirs('images')\n",
    "\n",
    "__radar_fig__.savefig('images/radar_plot.png', bbox_inches=\"tight\")\n",
    "\n",
    "# Compress folder and download\n",
    "!zip -r /images.zip /content/images > /dev/null\n",
    "try:\n",
    "  files.download(\"images.zip\")\n",
    "except:\n",
    "  pass"
   ]
  }
 ],
 "metadata": {
  "colab": {
   "collapsed_sections": [
    "ds789Mrq5LmR",
    "dwIcX62dDnNE",
    "vQmNzVbBDqZa",
    "_ypLP6DZHZc8",
    "GrTjfY11MD5E",
    "YtCu7IUwFYOY",
    "iKRx2R7DEz5R",
    "UQ010l9tFsbG",
    "SWm2u8lpFsbK",
    "XeeO3UdkHvro",
    "BhNvrDHtFsbW",
    "PvkWAhKAFsbo",
    "_OXjiYVTFsbe",
    "zCNVq9M0IEpT",
    "U5B77UDjIEpY",
    "hPlIUnPgIBb5",
    "PweN9CwBIEps",
    "-Tbhu6tKIEqG",
    "USfDNwCtIEp9",
    "tV8NnR1pJIkN",
    "NMY_PV_PJWvy",
    "Fada-WLrKDdA",
    "g_mroLiVK1RE",
    "k4S-Q5B5Sysn",
    "kDKk7PhyTEif",
    "5_NxfUeUUTCz",
    "3tACBZKzTfNS",
    "F1i-6W76Tiba",
    "eWua8ocyT5eE",
    "KWdGnbSPIbmd"
   ],
   "name": "results.ipynb",
   "toc_visible": true
  },
  "kernelspec": {
   "display_name": "Python 3",
   "language": "python",
   "name": "python3"
  },
  "language_info": {
   "codemirror_mode": {
    "name": "ipython",
    "version": 3
   },
   "file_extension": ".py",
   "mimetype": "text/x-python",
   "name": "python",
   "nbconvert_exporter": "python",
   "pygments_lexer": "ipython3",
   "version": "3.6.10"
  }
 },
 "nbformat": 4,
 "nbformat_minor": 1
}
